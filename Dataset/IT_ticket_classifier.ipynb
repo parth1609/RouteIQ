{
 "cells": [
  {
   "cell_type": "code",
   "execution_count": 29,
   "id": "3bf0a9a1",
   "metadata": {},
   "outputs": [],
   "source": [
    "import pandas as pd\n",
    "import numpy as np\n",
    "import re\n",
    "import nltk\n",
    "from nltk.corpus import stopwords\n",
    "from nltk.stem import WordNetLemmatizer\n",
    "from sklearn.feature_extraction.text import TfidfVectorizer\n",
    "from sklearn.feature_selection import SelectKBest, chi2\n",
    "from sklearn.model_selection import train_test_split, GridSearchCV\n",
    "from sklearn.linear_model import LogisticRegression\n",
    "from sklearn.metrics import accuracy_score, precision_recall_fscore_support, classification_report\n",
    "from sklearn.preprocessing import LabelEncoder\n",
    "from imblearn.over_sampling import RandomOverSampler # This import is no longer used but kept for context if user wants to re-add it\n",
    "from collections import Counter\n",
    "\n",
    "import warnings\n",
    "warnings.filterwarnings('ignore')\n"
   ]
  },
  {
   "cell_type": "code",
   "execution_count": 3,
   "id": "e1692c9a",
   "metadata": {},
   "outputs": [],
   "source": [
    "\n",
    "# Set the option to display the full content of columns\n",
    "pd.set_option('display.max_colwidth', None)\n"
   ]
  },
  {
   "cell_type": "code",
   "execution_count": 4,
   "id": "3d66cf7b",
   "metadata": {},
   "outputs": [],
   "source": [
    "# --- Configuration ---\n",
    "N_FEATURES_CHI2 = 5000 # Number of top features to select with Chi-Square (adjust based on vocab size)\n"
   ]
  },
  {
   "cell_type": "code",
   "execution_count": 5,
   "id": "c4c5dd3e",
   "metadata": {},
   "outputs": [],
   "source": [
    "# Ensure NLTK data is downloaded (run these once)\n",
    "# nltk.download('stopwords')\n",
    "# nltk.download('wordnet')\n",
    "# nltk.download('omw-1.4') # Open Multilingual Wordnet (required for WordNetLemmatizer)\n"
   ]
  },
  {
   "cell_type": "markdown",
   "id": "2f9e841c",
   "metadata": {},
   "source": [
    "### Load The dataset"
   ]
  },
  {
   "cell_type": "code",
   "execution_count": 6,
   "id": "0f328d2a",
   "metadata": {},
   "outputs": [
    {
     "data": {
      "text/html": [
       "<div>\n",
       "<style scoped>\n",
       "    .dataframe tbody tr th:only-of-type {\n",
       "        vertical-align: middle;\n",
       "    }\n",
       "\n",
       "    .dataframe tbody tr th {\n",
       "        vertical-align: top;\n",
       "    }\n",
       "\n",
       "    .dataframe thead th {\n",
       "        text-align: right;\n",
       "    }\n",
       "</style>\n",
       "<table border=\"1\" class=\"dataframe\">\n",
       "  <thead>\n",
       "    <tr style=\"text-align: right;\">\n",
       "      <th></th>\n",
       "      <th>Body</th>\n",
       "      <th>Department</th>\n",
       "      <th>Priority</th>\n",
       "      <th>Tags</th>\n",
       "    </tr>\n",
       "  </thead>\n",
       "  <tbody>\n",
       "    <tr>\n",
       "      <th>0</th>\n",
       "      <td>Dear Customer Support Team,I am writing to report a significant problem with the centralized account management portal, which currently appears to be offline. This outage is blocking access to account settings, leading to substantial inconvenience. I have attempted to log in multiple times using different browsers and devices, but the issue persists.Could you please provide an update on the outage status and an estimated time for resolution? Also, are there any alternative ways to access and manage my account during this downtime?</td>\n",
       "      <td>Technical Support</td>\n",
       "      <td>high</td>\n",
       "      <td>['Account', 'Disruption', 'Outage', 'IT', 'Tech Support']</td>\n",
       "    </tr>\n",
       "    <tr>\n",
       "      <th>1</th>\n",
       "      <td>Dear Customer Support Team,I hope this message reaches you well. I am reaching out to request detailed information about the capabilities of your smart home integration products listed on your website. As a potential customer aiming to develop a seamlessly interconnected home environment, it is essential to understand how your products interact with various smart home platforms.Could you kindly provide detailed compatibility information with popular smart home ecosystems such as Amazon Alexa, Google Assistant, and Apple?</td>\n",
       "      <td>Returns and Exchanges</td>\n",
       "      <td>medium</td>\n",
       "      <td>['Product', 'Feature', 'Tech Support']</td>\n",
       "    </tr>\n",
       "    <tr>\n",
       "      <th>2</th>\n",
       "      <td>Dear Customer Support Team,I hope this message finds you well. I am reaching out to request clarification about the billing and payment procedures linked to my account. Recently, I observed some inconsistencies in the charges applied and would like to ensure I fully understand the billing cycle, accepted payment options, and any potential extra charges.Firstly, I would be grateful if you could provide a detailed explanation of how the billing cycle functions. Specifically, I am interested in knowing the start and end dates.Thank you for your assistance regarding these billing inquiries.</td>\n",
       "      <td>Billing and Payments</td>\n",
       "      <td>low</td>\n",
       "      <td>['Billing', 'Payment', 'Account', 'Documentation', 'Feedback']</td>\n",
       "    </tr>\n",
       "    <tr>\n",
       "      <th>3</th>\n",
       "      <td>Dear Support Team,I hope this message reaches you well. I am reaching out to ask about the compatibility of your products with the specific needs of marketing agencies. Our company is considering adopting these solutions to streamline our current marketing processes and wants to confirm that the products are fully compatible with the tools and platforms we currently utilize.Could you please supply detailed information regarding the compatibility of your products with popular marketing software, CRM systems, email marketing applications, and analytics platforms? Additionally, I would appreciate any relevant case studies or documentation tailored to our use case.</td>\n",
       "      <td>Sales and Pre-Sales</td>\n",
       "      <td>medium</td>\n",
       "      <td>['Product', 'Feature', 'Feedback', 'Tech Support']</td>\n",
       "    </tr>\n",
       "    <tr>\n",
       "      <th>4</th>\n",
       "      <td>Dear Customer Support,I hope this message reaches you in good health. I am eager to learn more about the features of one of your products. Would you be able to share comprehensive details about its functionalities, specifications, and any distinctive characteristics it may possess? Additionally, if there are user manuals, tutorials, or demonstration videos available, I would be grateful if you could provide those resources. Gaining a thorough understanding of the features will assist me in making an informed decision regarding the product.Thank you very much for your assistance. I look forward to your prompt reply.Best regards</td>\n",
       "      <td>Technical Support</td>\n",
       "      <td>high</td>\n",
       "      <td>['Feature', 'Product', 'Documentation', 'Feedback']</td>\n",
       "    </tr>\n",
       "  </tbody>\n",
       "</table>\n",
       "</div>"
      ],
      "text/plain": [
       "                                                                                                                                                                                                                                                                                                                                                                                                                                                                                                                                                                                                                                                                                            Body  \\\n",
       "0                                                                                                                                       Dear Customer Support Team,I am writing to report a significant problem with the centralized account management portal, which currently appears to be offline. This outage is blocking access to account settings, leading to substantial inconvenience. I have attempted to log in multiple times using different browsers and devices, but the issue persists.Could you please provide an update on the outage status and an estimated time for resolution? Also, are there any alternative ways to access and manage my account during this downtime?   \n",
       "1                                                                                                                                                 Dear Customer Support Team,I hope this message reaches you well. I am reaching out to request detailed information about the capabilities of your smart home integration products listed on your website. As a potential customer aiming to develop a seamlessly interconnected home environment, it is essential to understand how your products interact with various smart home platforms.Could you kindly provide detailed compatibility information with popular smart home ecosystems such as Amazon Alexa, Google Assistant, and Apple?   \n",
       "2                                                                              Dear Customer Support Team,I hope this message finds you well. I am reaching out to request clarification about the billing and payment procedures linked to my account. Recently, I observed some inconsistencies in the charges applied and would like to ensure I fully understand the billing cycle, accepted payment options, and any potential extra charges.Firstly, I would be grateful if you could provide a detailed explanation of how the billing cycle functions. Specifically, I am interested in knowing the start and end dates.Thank you for your assistance regarding these billing inquiries.   \n",
       "3  Dear Support Team,I hope this message reaches you well. I am reaching out to ask about the compatibility of your products with the specific needs of marketing agencies. Our company is considering adopting these solutions to streamline our current marketing processes and wants to confirm that the products are fully compatible with the tools and platforms we currently utilize.Could you please supply detailed information regarding the compatibility of your products with popular marketing software, CRM systems, email marketing applications, and analytics platforms? Additionally, I would appreciate any relevant case studies or documentation tailored to our use case.   \n",
       "4                                     Dear Customer Support,I hope this message reaches you in good health. I am eager to learn more about the features of one of your products. Would you be able to share comprehensive details about its functionalities, specifications, and any distinctive characteristics it may possess? Additionally, if there are user manuals, tutorials, or demonstration videos available, I would be grateful if you could provide those resources. Gaining a thorough understanding of the features will assist me in making an informed decision regarding the product.Thank you very much for your assistance. I look forward to your prompt reply.Best regards   \n",
       "\n",
       "              Department Priority  \\\n",
       "0      Technical Support     high   \n",
       "1  Returns and Exchanges   medium   \n",
       "2   Billing and Payments      low   \n",
       "3    Sales and Pre-Sales   medium   \n",
       "4      Technical Support     high   \n",
       "\n",
       "                                                             Tags  \n",
       "0       ['Account', 'Disruption', 'Outage', 'IT', 'Tech Support']  \n",
       "1                          ['Product', 'Feature', 'Tech Support']  \n",
       "2  ['Billing', 'Payment', 'Account', 'Documentation', 'Feedback']  \n",
       "3              ['Product', 'Feature', 'Feedback', 'Tech Support']  \n",
       "4             ['Feature', 'Product', 'Documentation', 'Feedback']  "
      ]
     },
     "execution_count": 6,
     "metadata": {},
     "output_type": "execute_result"
    }
   ],
   "source": [
    "df = pd.read_csv('It Support Ticket Data.csv',index_col=0)\n",
    "df.head()\n"
   ]
  },
  {
   "cell_type": "code",
   "execution_count": 7,
   "id": "84501ef2",
   "metadata": {},
   "outputs": [],
   "source": [
    "df.dropna(inplace=True)"
   ]
  },
  {
   "cell_type": "code",
   "execution_count": 8,
   "id": "0554074c",
   "metadata": {},
   "outputs": [
    {
     "data": {
      "text/plain": [
       "Body          0\n",
       "Department    0\n",
       "Priority      0\n",
       "Tags          0\n",
       "dtype: int64"
      ]
     },
     "execution_count": 8,
     "metadata": {},
     "output_type": "execute_result"
    }
   ],
   "source": [
    "df.isnull().sum()"
   ]
  },
  {
   "cell_type": "code",
   "execution_count": 9,
   "id": "627e0195",
   "metadata": {},
   "outputs": [],
   "source": [
    "departments = df['Department'].unique().tolist()"
   ]
  },
  {
   "cell_type": "code",
   "execution_count": 10,
   "id": "631e682f",
   "metadata": {},
   "outputs": [
    {
     "data": {
      "text/plain": [
       "['low', 'medium', 'high']"
      ]
     },
     "execution_count": 10,
     "metadata": {},
     "output_type": "execute_result"
    }
   ],
   "source": [
    "priority = df['Priority'].unique().tolist()[::-1]\n",
    "priority  "
   ]
  },
  {
   "cell_type": "code",
   "execution_count": 11,
   "id": "cebed4ae",
   "metadata": {},
   "outputs": [
    {
     "data": {
      "text/plain": [
       "['Body', 'Department', 'Priority', 'Tags']"
      ]
     },
     "execution_count": 11,
     "metadata": {},
     "output_type": "execute_result"
    }
   ],
   "source": [
    "df.columns.tolist()"
   ]
  },
  {
   "cell_type": "code",
   "execution_count": 12,
   "id": "247e57dc",
   "metadata": {},
   "outputs": [],
   "source": [
    "X = df['Body']\n",
    "y_department = df['Department']\n",
    "y_priority = df['Priority']"
   ]
  },
  {
   "cell_type": "code",
   "execution_count": 13,
   "id": "8e313b18",
   "metadata": {},
   "outputs": [
    {
     "data": {
      "text/plain": [
       "0                                                                                                                                                                                                                          Dear Customer Support Team,I am writing to report a significant problem with the centralized account management portal, which currently appears to be offline. This outage is blocking access to account settings, leading to substantial inconvenience. I have attempted to log in multiple times using different browsers and devices, but the issue persists.Could you please provide an update on the outage status and an estimated time for resolution? Also, are there any alternative ways to access and manage my account during this downtime?\n",
       "1                                                                                                                                                                                                                                    Dear Customer Support Team,I hope this message reaches you well. I am reaching out to request detailed information about the capabilities of your smart home integration products listed on your website. As a potential customer aiming to develop a seamlessly interconnected home environment, it is essential to understand how your products interact with various smart home platforms.Could you kindly provide detailed compatibility information with popular smart home ecosystems such as Amazon Alexa, Google Assistant, and Apple?\n",
       "2                                                                                                                                                                 Dear Customer Support Team,I hope this message finds you well. I am reaching out to request clarification about the billing and payment procedures linked to my account. Recently, I observed some inconsistencies in the charges applied and would like to ensure I fully understand the billing cycle, accepted payment options, and any potential extra charges.Firstly, I would be grateful if you could provide a detailed explanation of how the billing cycle functions. Specifically, I am interested in knowing the start and end dates.Thank you for your assistance regarding these billing inquiries.\n",
       "3                                                                                     Dear Support Team,I hope this message reaches you well. I am reaching out to ask about the compatibility of your products with the specific needs of marketing agencies. Our company is considering adopting these solutions to streamline our current marketing processes and wants to confirm that the products are fully compatible with the tools and platforms we currently utilize.Could you please supply detailed information regarding the compatibility of your products with popular marketing software, CRM systems, email marketing applications, and analytics platforms? Additionally, I would appreciate any relevant case studies or documentation tailored to our use case.\n",
       "4                                                                                                                        Dear Customer Support,I hope this message reaches you in good health. I am eager to learn more about the features of one of your products. Would you be able to share comprehensive details about its functionalities, specifications, and any distinctive characteristics it may possess? Additionally, if there are user manuals, tutorials, or demonstration videos available, I would be grateful if you could provide those resources. Gaining a thorough understanding of the features will assist me in making an informed decision regarding the product.Thank you very much for your assistance. I look forward to your prompt reply.Best regards\n",
       "                                                                                                                                                                                                                                                                                                                                                                                            ...                                                                                                                                                                                                                                                                                                                                                                                    \n",
       "29646    Hello Customer Support Team,My name is name. I am writing to request urgent support with optimizing costs and improving our deployment processes within our AWS cloud infrastructure, using your AWS Management Service. We are facing significant challenges with keeping the expenses in check and streamlining our deployment cycles.Given the critical nature of these issues, we are looking for expert guidance to address our concerns promptly. Could you please connect us with a specialist who can provide insights and solutions in these areas?We are hopeful of receiving your assistance to help enhance our cloud strategy. Should you require any further details, feel free to contact me directly.Thank you for your attention.Best regards,nametel_num\n",
       "29647                                                                                                                                                                            Dear Customer Support Team,We are currently encountering a serious problem with our server being offline, which is impacting numerous clients reliant on your IT Consulting Services. This dilemma has caused significant disruptions, and we urgently require a solution to restore service functionality. Additionally, an analysis of the repercussions is imperative to ascertain the complete extent of this issue. Kindly prioritize this matter, as it drastically influences client operations. We appreciate your prompt action in addressing this situation.Thank you,nametel_numacc_num\n",
       "29648                                                                                                                                                                                       Dear Customer Support Team,Our Cisco Router ISR4331 is encountering a sudden malfunction, resulting in significant network disruptions throughout our system. This matter is urgent and requires your prompt technical support. We believe that updating the router’s firmware could bring it back to its usual operating condition. Please accelerate the troubleshooting process to fix these disruptions and reinstate our services at your earliest opportunity. Continuous, uninterrupted service is crucial for us, and we greatly value your quick help.Best regards,nametel_num\n",
       "29649                                                                                                                           Dear IT Services Support Team, I am writing to inform you of a critical issue we are experiencing with our AWS infrastructure deployment, which is significantly affecting our cloud service operational efficiency and cost optimization efforts. The problem seems related to the AWS Management Service, causing disruptions in our regular business operations. We urgently require your assistance to rectify this issue. Please escalate this as a high-priority incident and advise on the next possible steps. Attached are relevant logs and performance data for your reference. Looking forward to your swift response. Thank you, name.\n",
       "29650                                                                                                                                                                                                                                                                                                                                                                                                                                                                          Dear Tech Online Store Customer Support,I recently noticed an overcharge on my Microsoft Office 365 yearly subscription for our team's cloud services. Could you please assist me in resolving this issue?My account number is acc_num. I would appreciate a prompt resolution.Thank you,nametel_num\n",
       "Name: Body, Length: 29650, dtype: object"
      ]
     },
     "execution_count": 13,
     "metadata": {},
     "output_type": "execute_result"
    }
   ],
   "source": [
    "X"
   ]
  },
  {
   "cell_type": "code",
   "execution_count": 17,
   "id": "b813d811",
   "metadata": {},
   "outputs": [
    {
     "name": "stdout",
     "output_type": "stream",
     "text": [
      "\n",
      "Applying text preprocessing...\n",
      "Text preprocessing complete.\n",
      "Sample clean description: dear customer support teami writing report significant problem centralized account management portal currently appears offline outage blocking access account setting leading substantial inconvenience attempted log multiple time using different browser device issue persistscould please provide update outage status estimated time resolution also alternative way access manage account downtime\n"
     ]
    }
   ],
   "source": [
    "# --- 2. Data Preprocessing ---\n",
    "def preprocess_text(text):\n",
    "    if not isinstance(text, str):\n",
    "        return \"\" # Handle non-string inputs gracefully\n",
    "    text = re.sub(r'[^a-zA-Z\\s]', '', text) # Remove non-alphabetic characters\n",
    "    text = text.lower() # Convert to lowercase\n",
    "    words = text.split() # Tokenize\n",
    "    words = [word for word in words if word not in stopwords.words('english')] # Remove stopwords\n",
    "    lemmatizer = WordNetLemmatizer()\n",
    "    words = [lemmatizer.lemmatize(word) for word in words] # Lemmatize\n",
    "    return ' '.join(words)\n",
    "\n",
    "print(\"\\nApplying text preprocessing...\")\n",
    "df['clean_description'] = df['Body'].apply(preprocess_text)\n",
    "print(\"Text preprocessing complete.\")\n",
    "print(f\"Sample clean description: {df['clean_description'].iloc[0]}\")\n",
    "\n",
    "\n"
   ]
  },
  {
   "cell_type": "code",
   "execution_count": 21,
   "id": "4135b01a",
   "metadata": {},
   "outputs": [
    {
     "name": "stdout",
     "output_type": "stream",
     "text": [
      "\n",
      "Extracting features using TF-IDF...\n",
      "TF-IDF feature matrix shape: (29650, 5000)\n"
     ]
    }
   ],
   "source": [
    "# --- 4. Feature Extraction (TF-IDF) ---\n",
    "print(\"\\nExtracting features using TF-IDF...\")\n",
    "tfidf_vectorizer = TfidfVectorizer(\n",
    "    max_features=5000, # Max number of features (words/ngrams)\n",
    "    min_df=2,           # Ignore terms that appear in less than 5 documents\n",
    "    ngram_range=(1, 2)  # Include unigrams and bigrams\n",
    ")\n",
    "X_tfidf = tfidf_vectorizer.fit_transform(df['clean_description'])\n",
    "print(f\"TF-IDF feature matrix shape: {X_tfidf.shape}\")\n"
   ]
  },
  {
   "cell_type": "code",
   "execution_count": 22,
   "id": "99ef7bb2",
   "metadata": {},
   "outputs": [
    {
     "name": "stdout",
     "output_type": "stream",
     "text": [
      "\n",
      "Encoding target variables (Department and Priority)...\n",
      "Department classes: ['Billing and Payments' 'Customer Service' 'General Inquiry'\n",
      " 'Human Resources' 'IT Support' 'Product Support' 'Returns and Exchanges'\n",
      " 'Sales and Pre-Sales' 'Service Outages and Maintenance'\n",
      " 'Technical Support']\n",
      "Priority classes: ['high' 'low' 'medium']\n"
     ]
    }
   ],
   "source": [
    "# --- 5. Label Encoding ---\n",
    "print(\"\\nEncoding target variables (Department and Priority)...\")\n",
    "le_department = LabelEncoder()\n",
    "df['department_encoded'] = le_department.fit_transform(df['Department'])\n",
    "print(f\"Department classes: {le_department.classes_}\")\n",
    "\n",
    "le_priority = LabelEncoder()\n",
    "df['priority_encoded'] = le_priority.fit_transform(df['Priority'])\n",
    "print(f\"Priority classes: {le_priority.classes_}\")\n"
   ]
  },
  {
   "cell_type": "code",
   "execution_count": 23,
   "id": "701f9a1f",
   "metadata": {},
   "outputs": [
    {
     "name": "stdout",
     "output_type": "stream",
     "text": [
      "\n",
      "--- Training Model for Department Prediction ---\n",
      "Department training class distribution: Counter({9: 6894, 5: 4430, 1: 3586, 4: 2800, 0: 2413, 6: 1174, 8: 926, 7: 708, 3: 454, 2: 335})\n"
     ]
    }
   ],
   "source": [
    "# --- 6. Data Splitting, and Model Training for Department ---\n",
    "print(\"\\n--- Training Model for Department Prediction ---\")\n",
    "X_train_dept, X_test_dept, y_train_dept, y_test_dept = train_test_split(\n",
    "    X_tfidf, df['department_encoded'], test_size=0.2, random_state=42, stratify=df['department_encoded']\n",
    ")\n",
    "\n",
    "print(f\"Department training class distribution: {Counter(y_train_dept)}\")"
   ]
  },
  {
   "cell_type": "code",
   "execution_count": null,
   "id": "f7bda110",
   "metadata": {},
   "outputs": [],
   "source": []
  },
  {
   "cell_type": "code",
   "execution_count": null,
   "id": "3a18e303",
   "metadata": {},
   "outputs": [],
   "source": [
    "# pd.DataFrame(X_train_tfidf_dept.toarray(), columns=tfidf_vectorizer.get_feature_names_out())"
   ]
  },
  {
   "cell_type": "code",
   "execution_count": 27,
   "id": "d3282cbe",
   "metadata": {},
   "outputs": [],
   "source": [
    "# print(\"\\n implement the logistic regression model\")\n",
    "\n",
    "\n",
    "# param_grid = {\n",
    "#     'C': [0.01, 0.1, 1, 10], # Regularization strength\n",
    "#     'l1_ratio': [0.5,0.8], # ElasticNet mixing parameter\n",
    "#     'penalty': ['elasticnet'], # ElasticNet regularization\n",
    "#     'solver': ['saga'], # SAGA solver supports ElasticNet\n",
    "# }\n",
    "\n",
    "# logistic_grid_search = GridSearchCV(\n",
    "#     param_grid=param_grid,\n",
    "#     estimator=LogisticRegression(random_state=42,n_jobs=1),\n",
    "#     scoring='accuracy',\n",
    "#     cv=5, # 5-fold cross-validation\n",
    "#     verbose=2,\n",
    "#     n_jobs=1 # Use 1 job to avoid memory issues in this environment\n",
    "\n",
    "# )\n",
    "\n",
    "# logistic_grid_search.fit(X_train_tfidf_dept, y_dept_train)\n",
    "\n",
    "\n",
    "# Print the best parameters and best score found\n",
    "# print(\"Best Parameters:\", logistic_grid_search.best_params_) # The best combination of hyperparameters found\n",
    "# print(\"Best Score:\", logistic_grid_search.best_score_)       # The cross-validation score achieved with the best parameters\n",
    "\n",
    "# # You can also access the best estimator directly\n",
    "# best_log_reg_model = logistic_grid_search.best_estimator_ # The best model itself\n",
    "# print(f\"\\n best model found: {best_log_reg_model}\")\n"
   ]
  },
  {
   "cell_type": "code",
   "execution_count": 26,
   "id": "417eee7b",
   "metadata": {},
   "outputs": [],
   "source": [
    "# <!-- Best Parameters: {'C': 10, 'l1_ratio': 0.8, 'penalty': 'elasticnet', 'solver': 'saga'}\n",
    "# Best Score: 0.560443266682727\n",
    "\n",
    "#  best model found: LogisticRegression(C=10, l1_ratio=0.8, n_jobs=1, penalty='elasticnet',\n",
    "#                    random_state=42, solver='saga') -->"
   ]
  },
  {
   "cell_type": "code",
   "execution_count": 25,
   "id": "bfc14998",
   "metadata": {},
   "outputs": [
    {
     "name": "stdout",
     "output_type": "stream",
     "text": [
      "Training Logistic Regression model for Department...\n",
      "Department model training complete.\n"
     ]
    }
   ],
   "source": [
    "# Train Logistic Regression Model for Department\n",
    "print(\"Training Logistic Regression model for Department...\")\n",
    "log_reg_dept = LogisticRegression(\n",
    "    C=10, # Best parameter found from grid search\n",
    "    l1_ratio=0.8, # Best parameter found from grid search\n",
    "    penalty='elasticnet', # ElasticNet regularization\n",
    "    solver='saga', # SAGA solver supports ElasticNet\n",
    "    random_state=42,\n",
    "    n_jobs=1 # Use 1 job to avoid memory issues in this environment\n",
    ")\n",
    "log_reg_dept.fit(X_train_dept, y_train_dept) # Changed to use X_train_dept, y_train_dept\n",
    "print(\"Department model training complete.\")\n",
    "\n"
   ]
  },
  {
   "cell_type": "code",
   "execution_count": 28,
   "id": "377c9979",
   "metadata": {},
   "outputs": [
    {
     "name": "stdout",
     "output_type": "stream",
     "text": [
      "\n",
      "--- Training Model for Priority Prediction ---\n",
      "Priority training class distribution: Counter({2: 9701, 0: 9209, 1: 4810})\n",
      "Training Logistic Regression model for Priority...\n",
      "Priority model training complete.\n"
     ]
    }
   ],
   "source": [
    "# --- 7. Data Splitting, and Model Training for Priority ---\n",
    "print(\"\\n--- Training Model for Priority Prediction ---\")\n",
    "X_train_prio, X_test_prio, y_train_prio, y_test_prio = train_test_split(\n",
    "    X_tfidf, df['priority_encoded'], test_size=0.2, random_state=42, stratify=df['priority_encoded']\n",
    ")\n",
    "\n",
    "print(f\"Priority training class distribution: {Counter(y_train_prio)}\")\n",
    "\n",
    "# Train Logistic Regression Model for Priority\n",
    "print(\"Training Logistic Regression model for Priority...\")\n",
    "log_reg_prio = LogisticRegression(\n",
    "      C=10, # Best parameter found from grid search\n",
    "    l1_ratio=0.8, # Best parameter found from grid search\n",
    "    penalty='elasticnet', # ElasticNet regularization\n",
    "    solver='saga', # SAGA solver supports ElasticNet\n",
    "    random_state=42,\n",
    "    n_jobs=1 # Use 1 job to avoid memory issues in this environment\n",
    ")\n",
    "log_reg_prio.fit(X_train_prio, y_train_prio) # Changed to use X_train_prio, y_train_prio\n",
    "print(\"Priority model training complete.\")\n"
   ]
  },
  {
   "cell_type": "code",
   "execution_count": 30,
   "id": "a8f0b43d",
   "metadata": {},
   "outputs": [
    {
     "name": "stdout",
     "output_type": "stream",
     "text": [
      "\n",
      "--- Evaluating Department Model ---\n",
      "Logistic Regression Accuracy for Department: 0.5880\n",
      "\n",
      "Classification Report for Department:\n",
      "                                 precision    recall  f1-score   support\n",
      "\n",
      "           Billing and Payments       0.84      0.82      0.83       604\n",
      "               Customer Service       0.51      0.51      0.51       896\n",
      "                General Inquiry       0.73      0.43      0.54        84\n",
      "                Human Resources       0.80      0.56      0.66       114\n",
      "                     IT Support       0.50      0.46      0.48       700\n",
      "                Product Support       0.51      0.55      0.53      1108\n",
      "          Returns and Exchanges       0.65      0.49      0.56       293\n",
      "            Sales and Pre-Sales       0.61      0.50      0.55       177\n",
      "Service Outages and Maintenance       0.75      0.63      0.69       231\n",
      "              Technical Support       0.58      0.65      0.61      1723\n",
      "\n",
      "                       accuracy                           0.59      5930\n",
      "                      macro avg       0.65      0.56      0.60      5930\n",
      "                   weighted avg       0.59      0.59      0.59      5930\n",
      "\n"
     ]
    }
   ],
   "source": [
    "# --- 8. Model Evaluation ---\n",
    "print(\"\\n--- Evaluating Department Model ---\")\n",
    "y_pred_dept = log_reg_dept.predict(X_test_dept)\n",
    "accuracy_dept = accuracy_score(y_test_dept, y_pred_dept)\n",
    "print(f\"Logistic Regression Accuracy for Department: {accuracy_dept:.4f}\")\n",
    "\n",
    "# Generate a detailed classification report for Department\n",
    "print(\"\\nClassification Report for Department:\")\n",
    "print(classification_report(y_test_dept, y_pred_dept, target_names=le_department.classes_))\n"
   ]
  },
  {
   "cell_type": "code",
   "execution_count": 31,
   "id": "e3dee2be",
   "metadata": {},
   "outputs": [
    {
     "name": "stdout",
     "output_type": "stream",
     "text": [
      "\n",
      "--- Evaluating Priority Model ---\n",
      "Logistic Regression Accuracy for Priority: 0.6046\n",
      "\n",
      "Classification Report for Priority:\n",
      "              precision    recall  f1-score   support\n",
      "\n",
      "        high       0.64      0.64      0.64      2302\n",
      "         low       0.53      0.48      0.50      1203\n",
      "      medium       0.61      0.63      0.62      2425\n",
      "\n",
      "    accuracy                           0.60      5930\n",
      "   macro avg       0.59      0.58      0.59      5930\n",
      "weighted avg       0.60      0.60      0.60      5930\n",
      "\n"
     ]
    }
   ],
   "source": [
    "print(\"\\n--- Evaluating Priority Model ---\")\n",
    "y_pred_prio = log_reg_prio.predict(X_test_prio)\n",
    "accuracy_prio = accuracy_score(y_test_prio, y_pred_prio)\n",
    "print(f\"Logistic Regression Accuracy for Priority: {accuracy_prio:.4f}\")\n",
    "\n",
    "# Generate a detailed classification report for Priority\n",
    "print(\"\\nClassification Report for Priority:\")\n",
    "print(classification_report(y_test_prio, y_pred_prio, target_names=le_priority.classes_))\n"
   ]
  },
  {
   "cell_type": "code",
   "execution_count": null,
   "id": "8c01f6ed",
   "metadata": {},
   "outputs": [],
   "source": []
  },
  {
   "cell_type": "code",
   "execution_count": 39,
   "id": "aeb81826",
   "metadata": {},
   "outputs": [
    {
     "name": "stdout",
     "output_type": "stream",
     "text": [
      "\n",
      "Predicting for new ticket: 'I am writing to report persistent and highly disruptive issues with my company email (Outlook 365) and calendar synchronization. This problem began immediately after the system-wide software update that was pushed out last Tuesday.\n",
      "\n",
      "Specifically, my Outlook email client on my desktop (Windows 10, Dell Latitude 7420) is failing to sync new emails in real-time. There's a significant delay, often up to 15-20 minutes, before new messages appear in my inbox. I've tried restarting Outlook, restarting my laptop, and even checking my internet connection (which is stable and fast). The issue persists whether I'm connected via Wi-Fi or Ethernet.\n",
      "\n",
      "Furthermore, my Outlook calendar is not syncing correctly with my mobile device (iPhone 13, iOS 17.5.1). Meetings I accept or create on my desktop do not show up on my phone, and vice-versa. This is causing me to miss important appointments and double-book myself, leading to significant professional embarrassment and impacting project deadlines. I've already tried re-adding my email account on my iPhone, but the problem remains. I also noticed that shared calendars are particularly affected; updates from my team members' calendars are not reflecting on my end.\n",
      "\n",
      "I rely heavily on real-time email communication and an accurate calendar for my role in project management. This ongoing issue is severely hindering my productivity and ability to collaborate effectively. Could you please investigate this matter as soon as possible? I am available for a remote session or a desk visit at your earliest convenience'\n",
      "Predicted Department: Technical Support\n",
      "Predicted Priority: high\n"
     ]
    }
   ],
   "source": [
    "\n",
    "# --- 9. Prediction Function ---\n",
    "def predict_ticket_category(description: str) -> tuple[str, str]:\n",
    "   \n",
    "    print(f\"\\nPredicting for new ticket: '{description}'\")\n",
    "    # Preprocess the new description\n",
    "    clean_description = preprocess_text(description)\n",
    "\n",
    "    # Transform using the trained TF-IDF vectorizer\n",
    "    description_tfidf = tfidf_vectorizer.transform([clean_description])\n",
    "\n",
    "    # Predict Department\n",
    "    predicted_dept_encoded = log_reg_dept.predict(description_tfidf)\n",
    "    predicted_department = le_department.inverse_transform(predicted_dept_encoded)[0]\n",
    "\n",
    "    # Predict Priority\n",
    "    predicted_prio_encoded = log_reg_prio.predict(description_tfidf)\n",
    "    predicted_priority = le_priority.inverse_transform(predicted_prio_encoded)[0]\n",
    "\n",
    "    return predicted_department, predicted_priority\n",
    "\n",
    "# --- Example Usage of the Prediction Function ---\n",
    "if __name__ == '__main__':\n",
    "    # This block will only run when the script is executed directly\n",
    "    # and not when imported as a module.\n",
    "    new_ticket_description = \"\"\"I am writing to report persistent and highly disruptive issues with my company email (Outlook 365) and calendar synchronization. This problem began immediately after the system-wide software update that was pushed out last Tuesday.\n",
    "\n",
    "Specifically, my Outlook email client on my desktop (Windows 10, Dell Latitude 7420) is failing to sync new emails in real-time. There's a significant delay, often up to 15-20 minutes, before new messages appear in my inbox. I've tried restarting Outlook, restarting my laptop, and even checking my internet connection (which is stable and fast). The issue persists whether I'm connected via Wi-Fi or Ethernet.\n",
    "\n",
    "Furthermore, my Outlook calendar is not syncing correctly with my mobile device (iPhone 13, iOS 17.5.1). Meetings I accept or create on my desktop do not show up on my phone, and vice-versa. This is causing me to miss important appointments and double-book myself, leading to significant professional embarrassment and impacting project deadlines. I've already tried re-adding my email account on my iPhone, but the problem remains. I also noticed that shared calendars are particularly affected; updates from my team members' calendars are not reflecting on my end.\n",
    "\n",
    "I rely heavily on real-time email communication and an accurate calendar for my role in project management. This ongoing issue is severely hindering my productivity and ability to collaborate effectively. Could you please investigate this matter as soon as possible? I am available for a remote session or a desk visit at your earliest convenience\"\"\"\n",
    "    predicted_dept, predicted_prio = predict_ticket_category(new_ticket_description)\n",
    "\n",
    "    print(f\"Predicted Department: {predicted_dept}\")\n",
    "    print(f\"Predicted Priority: {predicted_prio}\")\n",
    "\n"
   ]
  },
  {
   "cell_type": "code",
   "execution_count": null,
   "metadata": {},
   "outputs": [],
   "source": []
  },
  {
   "cell_type": "markdown",
   "id": "a5093023",
   "metadata": {},
   "source": [
    "### logistic Regression output\n",
    "1. for Department :- 58.80%\n",
    "2. for Priority :- 60.46%"
   ]
  },
  {
   "cell_type": "code",
   "execution_count": null,
   "id": "2b43c5d4",
   "metadata": {},
   "outputs": [],
   "source": []
  },
  {
   "cell_type": "code",
   "execution_count": null,
   "id": "6423808d",
   "metadata": {},
   "outputs": [],
   "source": [
    "import pickle as pkl\n",
    "# Define file paths for saving\n",
    "tfidf_vectorizer_path = 'tfidf_vectorizer.pkl'\n",
    "le_department_path = 'le_department.pkl'\n",
    "le_priority_path = 'le_priority.pkl'\n",
    "log_reg_dept_path = 'log_reg_dept_model.pkl'\n",
    "log_reg_prio_path = 'log_reg_prio_model.pkl'"
   ]
  },
  {
   "cell_type": "code",
   "execution_count": 41,
   "id": "5d74bfef",
   "metadata": {},
   "outputs": [
    {
     "name": "stdout",
     "output_type": "stream",
     "text": [
      "TF-IDF Vectorizer saved to tfidf_vectorizer.pkl\n",
      "Department LabelEncoder saved to le_department.pkl\n",
      "Priority LabelEncoder saved to le_priority.pkl\n",
      "Department Logistic Regression Model saved to log_reg_dept_model.pkl\n",
      "Priority Logistic Regression Model saved to log_reg_prio_model.pkl\n",
      "\n",
      "All models and transformers exported successfully!\n"
     ]
    }
   ],
   "source": [
    "# Save TF-IDF Vectorizer\n",
    "with open(tfidf_vectorizer_path, 'wb') as f:\n",
    "    pkl.dump(tfidf_vectorizer, f)\n",
    "print(f\"TF-IDF Vectorizer saved to {tfidf_vectorizer_path}\")\n",
    "\n",
    "# Save Department LabelEncoder\n",
    "with open(le_department_path, 'wb') as f:\n",
    "    pkl.dump(le_department, f)\n",
    "print(f\"Department LabelEncoder saved to {le_department_path}\")\n",
    "\n",
    "# Save Priority LabelEncoder\n",
    "with open(le_priority_path, 'wb') as f:\n",
    "    pkl.dump(le_priority, f)\n",
    "print(f\"Priority LabelEncoder saved to {le_priority_path}\")\n",
    "\n",
    "# Save Department Logistic Regression Model\n",
    "with open(log_reg_dept_path, 'wb') as f:\n",
    "    pkl.dump(log_reg_dept, f)\n",
    "print(f\"Department Logistic Regression Model saved to {log_reg_dept_path}\")\n",
    "\n",
    "# Save Priority Logistic Regression Model\n",
    "with open(log_reg_prio_path, 'wb') as f:\n",
    "    pkl.dump(log_reg_prio, f)\n",
    "print(f\"Priority Logistic Regression Model saved to {log_reg_prio_path}\")\n",
    "\n",
    "print(\"\\nAll models and transformers exported successfully!\")"
   ]
  },
  {
   "cell_type": "code",
   "execution_count": null,
   "id": "8a10d012",
   "metadata": {},
   "outputs": [],
   "source": []
  }
 ],
 "metadata": {
  "kernelspec": {
   "display_name": "venv",
   "language": "python",
   "name": "python3"
  },
  "language_info": {
   "codemirror_mode": {
    "name": "ipython",
    "version": 3
   },
   "file_extension": ".py",
   "mimetype": "text/x-python",
   "name": "python",
   "nbconvert_exporter": "python",
   "pygments_lexer": "ipython3",
   "version": "3.11.0"
  }
 },
 "nbformat": 4,
 "nbformat_minor": 5
}
