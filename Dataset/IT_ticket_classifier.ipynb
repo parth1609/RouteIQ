{
 "cells": [
  {
   "cell_type": "code",
   "execution_count": 1,
   "id": "3bf0a9a1",
   "metadata": {},
   "outputs": [],
   "source": [
    " \n",
    "import pandas as pd\n",
    "import numpy as np\n",
    "import re\n",
    "import nltk\n",
    "from nltk.corpus import stopwords\n",
    "from nltk.stem import WordNetLemmatizer\n",
    "from sklearn.feature_extraction.text import TfidfVectorizer\n",
    "from sklearn.feature_selection import SelectKBest, chi2\n",
    "from sklearn.model_selection import train_test_split, GridSearchCV # GridSearchCV for tuning\n",
    "from sklearn.linear_model import LogisticRegression # Our focus model\n",
    "from sklearn.metrics import accuracy_score, precision_recall_fscore_support\n",
    "from sklearn.preprocessing import LabelEncoder\n",
    "from imblearn.over_sampling import RandomOverSampler # For handling imbalance\n",
    "from collections import Counter # To check class distribution\n",
    "\n",
    "import warnings\n",
    "warnings.filterwarnings('ignore')\n"
   ]
  },
  {
   "cell_type": "code",
   "execution_count": 2,
   "id": "e1692c9a",
   "metadata": {},
   "outputs": [],
   "source": [
    "\n",
    "# Set the option to display the full content of columns\n",
    "pd.set_option('display.max_colwidth', None)\n"
   ]
  },
  {
   "cell_type": "code",
   "execution_count": null,
   "id": "3d66cf7b",
   "metadata": {},
   "outputs": [],
   "source": [
    "# --- Configuration ---\n",
    "N_FEATURES_CHI2 = 5000 # Number of top features to select with Chi-Square (adjust based on vocab size)\n"
   ]
  },
  {
   "cell_type": "code",
   "execution_count": 4,
   "id": "c4c5dd3e",
   "metadata": {},
   "outputs": [],
   "source": [
    "# Ensure NLTK data is downloaded (run these once)\n",
    "# nltk.download('stopwords')\n",
    "# nltk.download('wordnet')\n",
    "# nltk.download('omw-1.4') # Open Multilingual Wordnet (required for WordNetLemmatizer)\n"
   ]
  },
  {
   "cell_type": "markdown",
   "id": "2f9e841c",
   "metadata": {},
   "source": [
    "### Load The dataset"
   ]
  },
  {
   "cell_type": "code",
   "execution_count": 5,
   "id": "0f328d2a",
   "metadata": {},
   "outputs": [
    {
     "data": {
      "text/html": [
       "<div>\n",
       "<style scoped>\n",
       "    .dataframe tbody tr th:only-of-type {\n",
       "        vertical-align: middle;\n",
       "    }\n",
       "\n",
       "    .dataframe tbody tr th {\n",
       "        vertical-align: top;\n",
       "    }\n",
       "\n",
       "    .dataframe thead th {\n",
       "        text-align: right;\n",
       "    }\n",
       "</style>\n",
       "<table border=\"1\" class=\"dataframe\">\n",
       "  <thead>\n",
       "    <tr style=\"text-align: right;\">\n",
       "      <th></th>\n",
       "      <th>Body</th>\n",
       "      <th>Department</th>\n",
       "      <th>Priority</th>\n",
       "      <th>Tags</th>\n",
       "    </tr>\n",
       "  </thead>\n",
       "  <tbody>\n",
       "    <tr>\n",
       "      <th>0</th>\n",
       "      <td>Dear Customer Support Team,I am writing to report a significant problem with the centralized account management portal, which currently appears to be offline. This outage is blocking access to account settings, leading to substantial inconvenience. I have attempted to log in multiple times using different browsers and devices, but the issue persists.Could you please provide an update on the outage status and an estimated time for resolution? Also, are there any alternative ways to access and manage my account during this downtime?</td>\n",
       "      <td>Technical Support</td>\n",
       "      <td>high</td>\n",
       "      <td>['Account', 'Disruption', 'Outage', 'IT', 'Tech Support']</td>\n",
       "    </tr>\n",
       "    <tr>\n",
       "      <th>1</th>\n",
       "      <td>Dear Customer Support Team,I hope this message reaches you well. I am reaching out to request detailed information about the capabilities of your smart home integration products listed on your website. As a potential customer aiming to develop a seamlessly interconnected home environment, it is essential to understand how your products interact with various smart home platforms.Could you kindly provide detailed compatibility information with popular smart home ecosystems such as Amazon Alexa, Google Assistant, and Apple?</td>\n",
       "      <td>Returns and Exchanges</td>\n",
       "      <td>medium</td>\n",
       "      <td>['Product', 'Feature', 'Tech Support']</td>\n",
       "    </tr>\n",
       "    <tr>\n",
       "      <th>2</th>\n",
       "      <td>Dear Customer Support Team,I hope this message finds you well. I am reaching out to request clarification about the billing and payment procedures linked to my account. Recently, I observed some inconsistencies in the charges applied and would like to ensure I fully understand the billing cycle, accepted payment options, and any potential extra charges.Firstly, I would be grateful if you could provide a detailed explanation of how the billing cycle functions. Specifically, I am interested in knowing the start and end dates.Thank you for your assistance regarding these billing inquiries.</td>\n",
       "      <td>Billing and Payments</td>\n",
       "      <td>low</td>\n",
       "      <td>['Billing', 'Payment', 'Account', 'Documentation', 'Feedback']</td>\n",
       "    </tr>\n",
       "    <tr>\n",
       "      <th>3</th>\n",
       "      <td>Dear Support Team,I hope this message reaches you well. I am reaching out to ask about the compatibility of your products with the specific needs of marketing agencies. Our company is considering adopting these solutions to streamline our current marketing processes and wants to confirm that the products are fully compatible with the tools and platforms we currently utilize.Could you please supply detailed information regarding the compatibility of your products with popular marketing software, CRM systems, email marketing applications, and analytics platforms? Additionally, I would appreciate any relevant case studies or documentation tailored to our use case.</td>\n",
       "      <td>Sales and Pre-Sales</td>\n",
       "      <td>medium</td>\n",
       "      <td>['Product', 'Feature', 'Feedback', 'Tech Support']</td>\n",
       "    </tr>\n",
       "    <tr>\n",
       "      <th>4</th>\n",
       "      <td>Dear Customer Support,I hope this message reaches you in good health. I am eager to learn more about the features of one of your products. Would you be able to share comprehensive details about its functionalities, specifications, and any distinctive characteristics it may possess? Additionally, if there are user manuals, tutorials, or demonstration videos available, I would be grateful if you could provide those resources. Gaining a thorough understanding of the features will assist me in making an informed decision regarding the product.Thank you very much for your assistance. I look forward to your prompt reply.Best regards</td>\n",
       "      <td>Technical Support</td>\n",
       "      <td>high</td>\n",
       "      <td>['Feature', 'Product', 'Documentation', 'Feedback']</td>\n",
       "    </tr>\n",
       "  </tbody>\n",
       "</table>\n",
       "</div>"
      ],
      "text/plain": [
       "                                                                                                                                                                                                                                                                                                                                                                                                                                                                                                                                                                                                                                                                                            Body  \\\n",
       "0                                                                                                                                       Dear Customer Support Team,I am writing to report a significant problem with the centralized account management portal, which currently appears to be offline. This outage is blocking access to account settings, leading to substantial inconvenience. I have attempted to log in multiple times using different browsers and devices, but the issue persists.Could you please provide an update on the outage status and an estimated time for resolution? Also, are there any alternative ways to access and manage my account during this downtime?   \n",
       "1                                                                                                                                                 Dear Customer Support Team,I hope this message reaches you well. I am reaching out to request detailed information about the capabilities of your smart home integration products listed on your website. As a potential customer aiming to develop a seamlessly interconnected home environment, it is essential to understand how your products interact with various smart home platforms.Could you kindly provide detailed compatibility information with popular smart home ecosystems such as Amazon Alexa, Google Assistant, and Apple?   \n",
       "2                                                                              Dear Customer Support Team,I hope this message finds you well. I am reaching out to request clarification about the billing and payment procedures linked to my account. Recently, I observed some inconsistencies in the charges applied and would like to ensure I fully understand the billing cycle, accepted payment options, and any potential extra charges.Firstly, I would be grateful if you could provide a detailed explanation of how the billing cycle functions. Specifically, I am interested in knowing the start and end dates.Thank you for your assistance regarding these billing inquiries.   \n",
       "3  Dear Support Team,I hope this message reaches you well. I am reaching out to ask about the compatibility of your products with the specific needs of marketing agencies. Our company is considering adopting these solutions to streamline our current marketing processes and wants to confirm that the products are fully compatible with the tools and platforms we currently utilize.Could you please supply detailed information regarding the compatibility of your products with popular marketing software, CRM systems, email marketing applications, and analytics platforms? Additionally, I would appreciate any relevant case studies or documentation tailored to our use case.   \n",
       "4                                     Dear Customer Support,I hope this message reaches you in good health. I am eager to learn more about the features of one of your products. Would you be able to share comprehensive details about its functionalities, specifications, and any distinctive characteristics it may possess? Additionally, if there are user manuals, tutorials, or demonstration videos available, I would be grateful if you could provide those resources. Gaining a thorough understanding of the features will assist me in making an informed decision regarding the product.Thank you very much for your assistance. I look forward to your prompt reply.Best regards   \n",
       "\n",
       "              Department Priority  \\\n",
       "0      Technical Support     high   \n",
       "1  Returns and Exchanges   medium   \n",
       "2   Billing and Payments      low   \n",
       "3    Sales and Pre-Sales   medium   \n",
       "4      Technical Support     high   \n",
       "\n",
       "                                                             Tags  \n",
       "0       ['Account', 'Disruption', 'Outage', 'IT', 'Tech Support']  \n",
       "1                          ['Product', 'Feature', 'Tech Support']  \n",
       "2  ['Billing', 'Payment', 'Account', 'Documentation', 'Feedback']  \n",
       "3              ['Product', 'Feature', 'Feedback', 'Tech Support']  \n",
       "4             ['Feature', 'Product', 'Documentation', 'Feedback']  "
      ]
     },
     "execution_count": 5,
     "metadata": {},
     "output_type": "execute_result"
    }
   ],
   "source": [
    "df = pd.read_csv('It Support Ticket Data.csv',index_col=0)\n",
    "df.head()\n"
   ]
  },
  {
   "cell_type": "code",
   "execution_count": 6,
   "id": "84501ef2",
   "metadata": {},
   "outputs": [],
   "source": [
    "df.dropna(inplace=True)"
   ]
  },
  {
   "cell_type": "code",
   "execution_count": 7,
   "id": "0554074c",
   "metadata": {},
   "outputs": [
    {
     "data": {
      "text/plain": [
       "Body          0\n",
       "Department    0\n",
       "Priority      0\n",
       "Tags          0\n",
       "dtype: int64"
      ]
     },
     "execution_count": 7,
     "metadata": {},
     "output_type": "execute_result"
    }
   ],
   "source": [
    "df.isnull().sum()"
   ]
  },
  {
   "cell_type": "code",
   "execution_count": 8,
   "id": "627e0195",
   "metadata": {},
   "outputs": [],
   "source": [
    "departments = df['Department'].unique().tolist()"
   ]
  },
  {
   "cell_type": "code",
   "execution_count": 9,
   "id": "631e682f",
   "metadata": {},
   "outputs": [
    {
     "data": {
      "text/plain": [
       "['low', 'medium', 'high']"
      ]
     },
     "execution_count": 9,
     "metadata": {},
     "output_type": "execute_result"
    }
   ],
   "source": [
    "priority = df['Priority'].unique().tolist()[::-1]\n",
    "priority  "
   ]
  },
  {
   "cell_type": "code",
   "execution_count": 10,
   "id": "cebed4ae",
   "metadata": {},
   "outputs": [
    {
     "data": {
      "text/plain": [
       "['Body', 'Department', 'Priority', 'Tags']"
      ]
     },
     "execution_count": 10,
     "metadata": {},
     "output_type": "execute_result"
    }
   ],
   "source": [
    "df.columns.tolist()"
   ]
  },
  {
   "cell_type": "code",
   "execution_count": 11,
   "id": "247e57dc",
   "metadata": {},
   "outputs": [],
   "source": [
    "X = df['Body']\n",
    "y_department = df['Department']\n",
    "y_priority = df['Priority']"
   ]
  },
  {
   "cell_type": "code",
   "execution_count": 12,
   "id": "8e313b18",
   "metadata": {},
   "outputs": [
    {
     "data": {
      "text/plain": [
       "0                                                                                                                                                                                                                          Dear Customer Support Team,I am writing to report a significant problem with the centralized account management portal, which currently appears to be offline. This outage is blocking access to account settings, leading to substantial inconvenience. I have attempted to log in multiple times using different browsers and devices, but the issue persists.Could you please provide an update on the outage status and an estimated time for resolution? Also, are there any alternative ways to access and manage my account during this downtime?\n",
       "1                                                                                                                                                                                                                                    Dear Customer Support Team,I hope this message reaches you well. I am reaching out to request detailed information about the capabilities of your smart home integration products listed on your website. As a potential customer aiming to develop a seamlessly interconnected home environment, it is essential to understand how your products interact with various smart home platforms.Could you kindly provide detailed compatibility information with popular smart home ecosystems such as Amazon Alexa, Google Assistant, and Apple?\n",
       "2                                                                                                                                                                 Dear Customer Support Team,I hope this message finds you well. I am reaching out to request clarification about the billing and payment procedures linked to my account. Recently, I observed some inconsistencies in the charges applied and would like to ensure I fully understand the billing cycle, accepted payment options, and any potential extra charges.Firstly, I would be grateful if you could provide a detailed explanation of how the billing cycle functions. Specifically, I am interested in knowing the start and end dates.Thank you for your assistance regarding these billing inquiries.\n",
       "3                                                                                     Dear Support Team,I hope this message reaches you well. I am reaching out to ask about the compatibility of your products with the specific needs of marketing agencies. Our company is considering adopting these solutions to streamline our current marketing processes and wants to confirm that the products are fully compatible with the tools and platforms we currently utilize.Could you please supply detailed information regarding the compatibility of your products with popular marketing software, CRM systems, email marketing applications, and analytics platforms? Additionally, I would appreciate any relevant case studies or documentation tailored to our use case.\n",
       "4                                                                                                                        Dear Customer Support,I hope this message reaches you in good health. I am eager to learn more about the features of one of your products. Would you be able to share comprehensive details about its functionalities, specifications, and any distinctive characteristics it may possess? Additionally, if there are user manuals, tutorials, or demonstration videos available, I would be grateful if you could provide those resources. Gaining a thorough understanding of the features will assist me in making an informed decision regarding the product.Thank you very much for your assistance. I look forward to your prompt reply.Best regards\n",
       "                                                                                                                                                                                                                                                                                                                                                                                            ...                                                                                                                                                                                                                                                                                                                                                                                    \n",
       "29646    Hello Customer Support Team,My name is name. I am writing to request urgent support with optimizing costs and improving our deployment processes within our AWS cloud infrastructure, using your AWS Management Service. We are facing significant challenges with keeping the expenses in check and streamlining our deployment cycles.Given the critical nature of these issues, we are looking for expert guidance to address our concerns promptly. Could you please connect us with a specialist who can provide insights and solutions in these areas?We are hopeful of receiving your assistance to help enhance our cloud strategy. Should you require any further details, feel free to contact me directly.Thank you for your attention.Best regards,nametel_num\n",
       "29647                                                                                                                                                                            Dear Customer Support Team,We are currently encountering a serious problem with our server being offline, which is impacting numerous clients reliant on your IT Consulting Services. This dilemma has caused significant disruptions, and we urgently require a solution to restore service functionality. Additionally, an analysis of the repercussions is imperative to ascertain the complete extent of this issue. Kindly prioritize this matter, as it drastically influences client operations. We appreciate your prompt action in addressing this situation.Thank you,nametel_numacc_num\n",
       "29648                                                                                                                                                                                       Dear Customer Support Team,Our Cisco Router ISR4331 is encountering a sudden malfunction, resulting in significant network disruptions throughout our system. This matter is urgent and requires your prompt technical support. We believe that updating the router’s firmware could bring it back to its usual operating condition. Please accelerate the troubleshooting process to fix these disruptions and reinstate our services at your earliest opportunity. Continuous, uninterrupted service is crucial for us, and we greatly value your quick help.Best regards,nametel_num\n",
       "29649                                                                                                                           Dear IT Services Support Team, I am writing to inform you of a critical issue we are experiencing with our AWS infrastructure deployment, which is significantly affecting our cloud service operational efficiency and cost optimization efforts. The problem seems related to the AWS Management Service, causing disruptions in our regular business operations. We urgently require your assistance to rectify this issue. Please escalate this as a high-priority incident and advise on the next possible steps. Attached are relevant logs and performance data for your reference. Looking forward to your swift response. Thank you, name.\n",
       "29650                                                                                                                                                                                                                                                                                                                                                                                                                                                                          Dear Tech Online Store Customer Support,I recently noticed an overcharge on my Microsoft Office 365 yearly subscription for our team's cloud services. Could you please assist me in resolving this issue?My account number is acc_num. I would appreciate a prompt resolution.Thank you,nametel_num\n",
       "Name: Body, Length: 29650, dtype: object"
      ]
     },
     "execution_count": 12,
     "metadata": {},
     "output_type": "execute_result"
    }
   ],
   "source": [
    "X"
   ]
  },
  {
   "cell_type": "code",
   "execution_count": 13,
   "id": "b813d811",
   "metadata": {},
   "outputs": [
    {
     "name": "stdout",
     "output_type": "stream",
     "text": [
      "\n",
      "Starting text preprocessing...\n",
      "Text preprocessing complete.\n",
      "Sample preprocessed text (first entry): dear customer support teami writing report significant problem centralized account management portal currently appears offline outage blocking access account setting leading substantial inconvenience attempted log multiple time using different browser device issue persistscould please provide update outage status estimated time resolution also alternative way access manage account downtime\n"
     ]
    }
   ],
   "source": [
    "# --- 2. Data Preprocessing ---\n",
    "lemmatizer = WordNetLemmatizer()\n",
    "stop_words = set(stopwords.words('english'))\n",
    "\n",
    "def preprocess_text(text):\n",
    "    text = str(text).lower()\n",
    "    text = re.sub(r'[^a-z\\s]', '', text) # Remove non-alphabetic characters\n",
    "    tokens = text.split() # Simple whitespace tokenization\n",
    "    tokens = [lemmatizer.lemmatize(word) for word in tokens if word not in stop_words]\n",
    "    return ' '.join(tokens)\n",
    "\n",
    "print(\"\\nStarting text preprocessing...\")\n",
    "X_preprocessed = X.apply(preprocess_text)\n",
    "print(\"Text preprocessing complete.\")\n",
    "print(\"Sample preprocessed text (first entry):\", X_preprocessed.iloc[0])\n",
    "\n"
   ]
  },
  {
   "cell_type": "code",
   "execution_count": 14,
   "id": "749a657d",
   "metadata": {},
   "outputs": [
    {
     "name": "stdout",
     "output_type": "stream",
     "text": [
      "\n",
      "Encoding target columns (Department and Priority)...\n",
      "Original Departments: ['Billing and Payments', 'Customer Service', 'General Inquiry', 'Human Resources', 'IT Support', 'Product Support', 'Returns and Exchanges', 'Sales and Pre-Sales', 'Service Outages and Maintenance', 'Technical Support']\n",
      "Encoded Departments (sample): [9 6 0 7 9]\n",
      "Original Priorities: ['high', 'low', 'medium']\n",
      "Encoded Priorities (sample): [0 2 1 2 0]\n"
     ]
    }
   ],
   "source": [
    "# --- 3. Encoding Output Columns (Department and Priority) ---\n",
    "print(\"\\nEncoding target columns (Department and Priority)...\")\n",
    "le_department = LabelEncoder()\n",
    "y_department_encoded = le_department.fit_transform(y_department)\n",
    "print(f\"Original Departments: {le_department.classes_.tolist()}\")\n",
    "print(f\"Encoded Departments (sample): {y_department_encoded[:5]}\")\n",
    "\n",
    "le_priority = LabelEncoder()\n",
    "y_priority_encoded = le_priority.fit_transform(y_priority)\n",
    "print(f\"Original Priorities: {le_priority.classes_.tolist()}\")\n",
    "print(f\"Encoded Priorities (sample): {y_priority_encoded[:5]}\")\n"
   ]
  },
  {
   "cell_type": "code",
   "execution_count": 15,
   "id": "1a6f0f66",
   "metadata": {},
   "outputs": [
    {
     "data": {
      "text/plain": [
       "array([9, 6, 0, ..., 9, 9, 0])"
      ]
     },
     "execution_count": 15,
     "metadata": {},
     "output_type": "execute_result"
    }
   ],
   "source": [
    "y_target = y_department_encoded\n",
    "y_target"
   ]
  },
  {
   "cell_type": "code",
   "execution_count": null,
   "id": "9df83611",
   "metadata": {},
   "outputs": [
    {
     "name": "stdout",
     "output_type": "stream",
     "text": [
      "\n",
      "Initial data split for TF-IDF fitting: Training (20755 samples), Testing (8895 samples).\n"
     ]
    }
   ],
   "source": [
    "# --- Split Data for TF-IDF Fitting and Model Training ---\n",
    "# It's crucial to fit TF-IDF and Chi2 selector ONLY on the training data\n",
    "# to prevent data leakage.\n",
    "X_train_raw, X_test_raw, y_train, y_test = train_test_split(\n",
    "    X_preprocessed, y_target, test_size=0.3, random_state=0.42, stratify=y_target\n",
    ")\n",
    "print(f\"\\nInitial data split for TF-IDF fitting: Training ({X_train_raw.shape[0]} samples), Testing ({X_test_raw.shape[0]} samples).\")\n",
    "\n"
   ]
  },
  {
   "cell_type": "code",
   "execution_count": 17,
   "id": "6ab17d02",
   "metadata": {},
   "outputs": [
    {
     "name": "stdout",
     "output_type": "stream",
     "text": [
      "\n",
      "Starting TF-IDF vectorization...\n",
      "TF-IDF vectorization complete. Training shape: (20755, 10000), Test shape: (8895, 10000)\n"
     ]
    }
   ],
   "source": [
    "# --- 4. Feature Engineering (TF-IDF) ---\n",
    "print(\"\\nStarting TF-IDF vectorization...\")\n",
    "# Experiment with max_features, min_df, ngram_range\n",
    "tfidf_vectorizer = TfidfVectorizer(\n",
    "    max_features=10000, # Max number of features (words/ngrams)\n",
    "    min_df=5,           # Ignore terms that appear in less than 5 documents\n",
    "    ngram_range=(1, 2)  # Include unigrams and bigrams\n",
    ")\n",
    "\n",
    "X_train_tfidf = tfidf_vectorizer.fit_transform(X_train_raw)\n",
    "X_test_tfidf = tfidf_vectorizer.transform(X_test_raw) # Only transform test data\n",
    "\n",
    "print(f\"TF-IDF vectorization complete. Training shape: {X_train_tfidf.shape}, Test shape: {X_test_tfidf.shape}\")\n"
   ]
  },
  {
   "cell_type": "code",
   "execution_count": 26,
   "id": "bc3fe6e1",
   "metadata": {},
   "outputs": [
    {
     "data": {
      "text/plain": [
       "<Compressed Sparse Row sparse matrix of dtype 'float64'\n",
       "\twith 1090748 stored elements and shape (20755, 10000)>"
      ]
     },
     "execution_count": 26,
     "metadata": {},
     "output_type": "execute_result"
    }
   ],
   "source": [
    "X_train_tfidf"
   ]
  },
  {
   "cell_type": "code",
   "execution_count": 18,
   "id": "42298e56",
   "metadata": {},
   "outputs": [
    {
     "name": "stdout",
     "output_type": "stream",
     "text": [
      "\n",
      "Starting Chi-Square feature selection (k=5000)...\n",
      "Chi-Square feature selection complete. New training shape: (20755, 5000), New test shape: (8895, 5000)\n"
     ]
    }
   ],
   "source": [
    "# --- 5. Dimensionality Reduction (Chi-Square) ---\n",
    "print(f\"\\nStarting Chi-Square feature selection (k={N_FEATURES_CHI2})...\")\n",
    "selector = SelectKBest(chi2, k=min(N_FEATURES_CHI2, X_train_tfidf.shape[1])) # Ensure k is not greater than actual features\n",
    "\n",
    "X_train_selected = selector.fit_transform(X_train_tfidf, y_train)\n",
    "X_test_selected = selector.transform(X_test_tfidf) # Only transform test data\n",
    "\n",
    "print(f\"Chi-Square feature selection complete. New training shape: {X_train_selected.shape}, New test shape: {X_test_selected.shape}\")\n"
   ]
  },
  {
   "cell_type": "code",
   "execution_count": null,
   "id": "cfca5601",
   "metadata": {},
   "outputs": [
    {
     "name": "stdout",
     "output_type": "stream",
     "text": [
      "\n",
      "Original training Department distribution: Counter({9: 6032, 5: 3877, 1: 3137, 4: 2450, 0: 2112, 6: 1027, 8: 810, 7: 619, 3: 398, 2: 293})\n",
      "Resampled training Department distribution: Counter({9: 6032, 4: 6032, 6: 6032, 5: 6032, 8: 6032, 1: 6032, 2: 6032, 0: 6032, 7: 6032, 3: 6032})\n",
      "Training data balanced. New shape: (60320, 5000)\n"
     ]
    }
   ],
   "source": [
    "# --- 6. Handle Data Imbalance ---\n",
    "# The paper mentions random oversampling and undersampling.\n",
    "# We'll use RandomOverSampler for simplicity here.\n",
    "# You might need to experiment with different strategies (e.g., SMOTE, combined over/undersampling).\n",
    "\n",
    "print(f\"\\nOriginal training Department distribution: {Counter(y_train)}\")\n",
    "\n",
    "# Apply oversampling to the training data\n",
    "ros = RandomOverSampler(random_state=0.42)\n",
    "X_train_resampled, y_train_resampled = ros.fit_resample(X_train_selected, y_train)\n",
    "\n",
    "print(f\"Resampled training Department distribution: {Counter(y_train_resampled)}\")\n",
    "print(f\"Training data balanced. New shape: {X_train_resampled.shape}\")\n",
    "\n",
    "X_final_train = X_train_resampled\n",
    "y_final_train = y_train_resampled\n",
    "X_final_test = X_test_selected # Test set should NOT be resampled\n",
    "y_final_test = y_test\n"
   ]
  },
  {
   "cell_type": "code",
   "execution_count": 22,
   "id": "b97f2a75",
   "metadata": {},
   "outputs": [],
   "source": [
    "# --- Evaluation Function ---\n",
    "def evaluate_model(model, X_test, y_test, model_name=\"Model\"):\n",
    "    y_pred = model.predict(X_test)\n",
    "    accuracy = accuracy_score(y_test, y_pred)\n",
    "    # Use 'weighted' average for precision, recall, fscore for multi-class imbalance\n",
    "    precision, recall, fscore, _ = precision_recall_fscore_support(y_test, y_pred, average='weighted', zero_division=0)\n",
    "    print(f\"\\n--- {model_name} Performance ---\")\n",
    "    print(f\"Accuracy: {accuracy:.4f}\")\n",
    "    print(f\"Precision: {precision:.4f}\")\n",
    "    print(f\"Recall: {recall:.4f}\")\n",
    "    print(f\"F1-Score: {fscore:.4f}\")\n",
    "    return accuracy, precision, recall, fscore\n"
   ]
  },
  {
   "cell_type": "code",
   "execution_count": 24,
   "id": "54d32148",
   "metadata": {},
   "outputs": [
    {
     "name": "stdout",
     "output_type": "stream",
     "text": [
      "\n",
      "--- Training Logistic Regression Classifier ---\n",
      "Starting GridSearchCV for Logistic Regression...\n",
      "Fitting 3 folds for each of 24 candidates, totalling 72 fits\n",
      "[CV] END ..............C=0.1, max_iter=500, solver=liblinear; total time=   1.3s\n",
      "[CV] END ..............C=0.1, max_iter=500, solver=liblinear; total time=   1.7s\n",
      "[CV] END ..............C=0.1, max_iter=500, solver=liblinear; total time=   1.7s\n",
      "[CV] END ...................C=0.1, max_iter=500, solver=saga; total time=   1.3s\n",
      "[CV] END ...................C=0.1, max_iter=500, solver=saga; total time=   1.1s\n",
      "[CV] END ...................C=0.1, max_iter=500, solver=saga; total time=   1.2s\n",
      "[CV] END .............C=0.1, max_iter=1000, solver=liblinear; total time=   1.5s\n",
      "[CV] END .............C=0.1, max_iter=1000, solver=liblinear; total time=   1.6s\n",
      "[CV] END .............C=0.1, max_iter=1000, solver=liblinear; total time=   1.7s\n",
      "[CV] END ..................C=0.1, max_iter=1000, solver=saga; total time=   1.4s\n",
      "[CV] END ..................C=0.1, max_iter=1000, solver=saga; total time=   1.2s\n",
      "[CV] END ..................C=0.1, max_iter=1000, solver=saga; total time=   1.2s\n",
      "[CV] END .............C=0.1, max_iter=2000, solver=liblinear; total time=   1.3s\n",
      "[CV] END .............C=0.1, max_iter=2000, solver=liblinear; total time=   1.6s\n",
      "[CV] END .............C=0.1, max_iter=2000, solver=liblinear; total time=   1.7s\n",
      "[CV] END ..................C=0.1, max_iter=2000, solver=saga; total time=   1.4s\n",
      "[CV] END ..................C=0.1, max_iter=2000, solver=saga; total time=   1.3s\n",
      "[CV] END ..................C=0.1, max_iter=2000, solver=saga; total time=   1.2s\n",
      "[CV] END ................C=1, max_iter=500, solver=liblinear; total time=   2.5s\n",
      "[CV] END ................C=1, max_iter=500, solver=liblinear; total time=   3.0s\n",
      "[CV] END ................C=1, max_iter=500, solver=liblinear; total time=   3.1s\n",
      "[CV] END .....................C=1, max_iter=500, solver=saga; total time=   1.3s\n",
      "[CV] END .....................C=1, max_iter=500, solver=saga; total time=   1.2s\n",
      "[CV] END .....................C=1, max_iter=500, solver=saga; total time=   1.2s\n",
      "[CV] END ...............C=1, max_iter=1000, solver=liblinear; total time=   2.2s\n",
      "[CV] END ...............C=1, max_iter=1000, solver=liblinear; total time=   2.8s\n",
      "[CV] END ...............C=1, max_iter=1000, solver=liblinear; total time=   3.1s\n",
      "[CV] END ....................C=1, max_iter=1000, solver=saga; total time=   1.3s\n",
      "[CV] END ....................C=1, max_iter=1000, solver=saga; total time=   1.2s\n",
      "[CV] END ....................C=1, max_iter=1000, solver=saga; total time=   1.1s\n",
      "[CV] END ...............C=1, max_iter=2000, solver=liblinear; total time=   2.4s\n",
      "[CV] END ...............C=1, max_iter=2000, solver=liblinear; total time=   2.8s\n",
      "[CV] END ...............C=1, max_iter=2000, solver=liblinear; total time=   3.1s\n",
      "[CV] END ....................C=1, max_iter=2000, solver=saga; total time=   1.3s\n",
      "[CV] END ....................C=1, max_iter=2000, solver=saga; total time=   1.1s\n",
      "[CV] END ....................C=1, max_iter=2000, solver=saga; total time=   1.1s\n",
      "[CV] END ...............C=10, max_iter=500, solver=liblinear; total time=   3.9s\n",
      "[CV] END ...............C=10, max_iter=500, solver=liblinear; total time=   4.9s\n",
      "[CV] END ...............C=10, max_iter=500, solver=liblinear; total time=   5.2s\n",
      "[CV] END ....................C=10, max_iter=500, solver=saga; total time=   3.4s\n",
      "[CV] END ....................C=10, max_iter=500, solver=saga; total time=   3.6s\n",
      "[CV] END ....................C=10, max_iter=500, solver=saga; total time=   3.5s\n",
      "[CV] END ..............C=10, max_iter=1000, solver=liblinear; total time=   4.0s\n",
      "[CV] END ..............C=10, max_iter=1000, solver=liblinear; total time=   4.9s\n",
      "[CV] END ..............C=10, max_iter=1000, solver=liblinear; total time=   5.5s\n",
      "[CV] END ...................C=10, max_iter=1000, solver=saga; total time=   3.6s\n",
      "[CV] END ...................C=10, max_iter=1000, solver=saga; total time=   3.4s\n",
      "[CV] END ...................C=10, max_iter=1000, solver=saga; total time=   3.4s\n",
      "[CV] END ..............C=10, max_iter=2000, solver=liblinear; total time=   3.7s\n",
      "[CV] END ..............C=10, max_iter=2000, solver=liblinear; total time=   4.9s\n",
      "[CV] END ..............C=10, max_iter=2000, solver=liblinear; total time=   5.4s\n",
      "[CV] END ...................C=10, max_iter=2000, solver=saga; total time=   3.1s\n",
      "[CV] END ...................C=10, max_iter=2000, solver=saga; total time=   3.3s\n",
      "[CV] END ...................C=10, max_iter=2000, solver=saga; total time=   3.5s\n",
      "[CV] END ..............C=100, max_iter=500, solver=liblinear; total time=   6.9s\n",
      "[CV] END ..............C=100, max_iter=500, solver=liblinear; total time=   9.2s\n",
      "[CV] END ..............C=100, max_iter=500, solver=liblinear; total time=   9.3s\n",
      "[CV] END ...................C=100, max_iter=500, solver=saga; total time=  15.0s\n",
      "[CV] END ...................C=100, max_iter=500, solver=saga; total time=  16.1s\n",
      "[CV] END ...................C=100, max_iter=500, solver=saga; total time=  19.1s\n",
      "[CV] END .............C=100, max_iter=1000, solver=liblinear; total time=   7.4s\n",
      "[CV] END .............C=100, max_iter=1000, solver=liblinear; total time=   8.8s\n",
      "[CV] END .............C=100, max_iter=1000, solver=liblinear; total time=   8.6s\n",
      "[CV] END ..................C=100, max_iter=1000, solver=saga; total time=  15.0s\n",
      "[CV] END ..................C=100, max_iter=1000, solver=saga; total time=  15.9s\n",
      "[CV] END ..................C=100, max_iter=1000, solver=saga; total time=  18.7s\n",
      "[CV] END .............C=100, max_iter=2000, solver=liblinear; total time=   6.4s\n",
      "[CV] END .............C=100, max_iter=2000, solver=liblinear; total time=   8.8s\n",
      "[CV] END .............C=100, max_iter=2000, solver=liblinear; total time=   9.9s\n",
      "[CV] END ..................C=100, max_iter=2000, solver=saga; total time=  16.8s\n",
      "[CV] END ..................C=100, max_iter=2000, solver=saga; total time=  17.5s\n",
      "[CV] END ..................C=100, max_iter=2000, solver=saga; total time=  20.2s\n",
      "\n",
      "Best Logistic Regression parameters found: {'C': 100, 'max_iter': 500, 'solver': 'saga'}\n",
      "\n",
      "--- Logistic Regression (Tuned) Performance ---\n",
      "Accuracy: 0.5857\n",
      "Precision: 0.5911\n",
      "Recall: 0.5857\n",
      "F1-Score: 0.5870\n"
     ]
    },
    {
     "data": {
      "text/plain": [
       "(0.5857223159078134,\n",
       " 0.5911392321197044,\n",
       " 0.5857223159078134,\n",
       " 0.5870472994954834)"
      ]
     },
     "execution_count": 24,
     "metadata": {},
     "output_type": "execute_result"
    }
   ],
   "source": [
    "\n",
    "# --- 7. Model Training and Evaluation: Logistic Regression Only ---\n",
    "\n",
    "print(\"\\n--- Training Logistic Regression Classifier ---\")\n",
    "\n",
    "# Define parameter grid for GridSearchCV to tune Logistic Regression\n",
    "# These parameters are crucial for getting good performance with TF-IDF\n",
    "lr_param_grid = {\n",
    "    'C': [0.1, 1, 10, 100], # Inverse of regularization strength; smaller C = stronger regularization\n",
    "    'solver': ['liblinear', 'saga'], # 'liblinear' is good for small-to-medium datasets, 'saga' for L1/L2 and large datasets\n",
    "    'max_iter': [500, 1000, 2000] # Increase max_iter if convergence warnings appear\n",
    "}\n",
    "# Initialize GridSearchCV\n",
    "# cv=3 means 3-fold cross-validation\n",
    "# verbose=1 shows progress\n",
    "# scoring='f1_weighted' is good for imbalanced multi-class problems\n",
    "lr_grid_search = GridSearchCV(\n",
    "    LogisticRegression(random_state=RANDOM_STATE, n_jobs=-1), # n_jobs=-1 uses all available CPU cores\n",
    "    lr_param_grid,\n",
    "    cv=3,\n",
    "    verbose=2, # More verbose output during search\n",
    "    scoring='f1_weighted' # Optimize for F1-score, weighted for imbalance\n",
    ")\n",
    "\n",
    "# Fit GridSearchCV to find the best Logistic Regression model\n",
    "print(\"Starting GridSearchCV for Logistic Regression...\")\n",
    "lr_grid_search.fit(X_final_train, y_final_train)\n",
    "\n",
    "# Get the best estimator found by GridSearchCV\n",
    "lr_classifier = lr_grid_search.best_estimator_\n",
    "print(f\"\\nBest Logistic Regression parameters found: {lr_grid_search.best_params_}\")\n",
    "\n",
    "# Evaluate the best Logistic Regression model on the test set\n",
    "evaluate_model(lr_classifier, X_final_test, y_final_test, \"Logistic Regression (Tuned)\")\n",
    "\n"
   ]
  },
  {
   "cell_type": "code",
   "execution_count": null,
   "id": "d4946122",
   "metadata": {},
   "outputs": [
    {
     "name": "stdout",
     "output_type": "stream",
     "text": [
      "\n",
      "Classification Report for Logistic Regression:\n",
      "                                 precision    recall  f1-score   support\n",
      "\n",
      "           Billing and Payments       0.79      0.81      0.80       905\n",
      "               Customer Service       0.52      0.54      0.53      1345\n",
      "                General Inquiry       0.64      0.55      0.59       126\n",
      "                Human Resources       0.69      0.63      0.66       170\n",
      "                     IT Support       0.45      0.51      0.48      1050\n",
      "                Product Support       0.54      0.55      0.54      1661\n",
      "          Returns and Exchanges       0.52      0.61      0.56       440\n",
      "            Sales and Pre-Sales       0.52      0.58      0.55       266\n",
      "Service Outages and Maintenance       0.66      0.68      0.67       347\n",
      "              Technical Support       0.65      0.57      0.61      2585\n",
      "\n",
      "                       accuracy                           0.59      8895\n",
      "                      macro avg       0.60      0.60      0.60      8895\n",
      "                   weighted avg       0.59      0.59      0.59      8895\n",
      "\n",
      "\n",
      "Classification Report for Predicted Departments:\n",
      "                                 precision    recall  f1-score   support\n",
      "\n",
      "           Billing and Payments       0.79      0.81      0.80       905\n",
      "               Customer Service       0.52      0.54      0.53      1345\n",
      "                General Inquiry       0.64      0.55      0.59       126\n",
      "                Human Resources       0.69      0.63      0.66       170\n",
      "                     IT Support       0.45      0.51      0.48      1050\n",
      "                Product Support       0.54      0.55      0.54      1661\n",
      "          Returns and Exchanges       0.52      0.61      0.56       440\n",
      "            Sales and Pre-Sales       0.52      0.58      0.55       266\n",
      "Service Outages and Maintenance       0.66      0.68      0.67       347\n",
      "              Technical Support       0.65      0.57      0.61      2585\n",
      "\n",
      "                       accuracy                           0.59      8895\n",
      "                      macro avg       0.60      0.60      0.60      8895\n",
      "                   weighted avg       0.59      0.59      0.59      8895\n",
      "\n"
     ]
    },
    {
     "data": {
      "image/png": "[encoded data removed]",
      "text/plain": [
       "<Figure size 1000x800 with 2 Axes>"
      ]
     },
     "metadata": {},
     "output_type": "display_data"
    }
   ],
   "source": [
    "from sklearn.metrics import classification_report\n",
    "# Generate and print a detailed classification report\n",
    "y_pred = lr_classifier.predict(X_final_test)    \n",
    "print(\"\\nClassification Report for Logistic Regression:\")\n",
    "print(classification_report(y_final_test, y_pred, target_names=le_department.classes_, zero_division=0)) \n",
    "\n",
    "# show the classification report of predicted departments\n",
    "print(\"\\nClassification Report for Predicted Departments:\") \n",
    "print(classification_report(y_final_test, y_pred, target_names=le_department.classes_, zero_division=0))\n",
    "\n",
    "#  show the confusion matrix of predicted departments\n",
    "from sklearn.metrics import confusion_matrix    \n",
    "import seaborn as sns\n",
    "import matplotlib.pyplot as plt\n",
    "cm = confusion_matrix(y_final_test, y_pred)\n",
    "plt.figure(figsize=(10, 8))\n",
    "sns.heatmap(cm, annot=True, fmt='d', cmap='Blues', xticklabels=le_department.classes_, yticklabels=le_department.classes_)\n",
    "plt.title('Confusion Matrix for Logistic Regression')\n",
    "plt.xlabel('Predicted Department')\n",
    "plt.ylabel('True Department')\n",
    "plt.show()\n",
    "\n"
   ]
  },
  {
   "cell_type": "code",
   "execution_count": 43,
   "id": "59a4ebe2",
   "metadata": {},
   "outputs": [
    {
     "ename": "ValueError",
     "evalue": "y contains previously unseen labels: [3 4 5 6 7 8 9]",
     "output_type": "error",
     "traceback": [
      "\u001b[31m---------------------------------------------------------------------------\u001b[39m",
      "\u001b[31mValueError\u001b[39m                                Traceback (most recent call last)",
      "\u001b[36mCell\u001b[39m\u001b[36m \u001b[39m\u001b[32mIn[43]\u001b[39m\u001b[32m, line 2\u001b[39m\n\u001b[32m      1\u001b[39m \u001b[38;5;66;03m# show the classification report of predicted priorities\u001b[39;00m\n\u001b[32m----> \u001b[39m\u001b[32m2\u001b[39m y_pred_priority = \u001b[43mle_priority\u001b[49m\u001b[43m.\u001b[49m\u001b[43minverse_transform\u001b[49m\u001b[43m(\u001b[49m\u001b[43mlr_classifier\u001b[49m\u001b[43m.\u001b[49m\u001b[43mpredict\u001b[49m\u001b[43m(\u001b[49m\u001b[43mX_final_test\u001b[49m\u001b[43m)\u001b[49m\u001b[43m)\u001b[49m\n\u001b[32m      3\u001b[39m \u001b[38;5;28mprint\u001b[39m(\u001b[33m\"\u001b[39m\u001b[38;5;130;01m\\n\u001b[39;00m\u001b[33mClassification Report for Predicted Priorities:\u001b[39m\u001b[33m\"\u001b[39m)  \n\u001b[32m      4\u001b[39m \u001b[38;5;28mprint\u001b[39m(classification_report(y_final_test, y_pred_priority, target_names=le_priority.classes_, zero_division=\u001b[32m0\u001b[39m))\n",
      "\u001b[36mFile \u001b[39m\u001b[32mc:\\Users\\parth\\OneDrive\\Desktop\\one\\RouteIQ\\venv\\Lib\\site-packages\\sklearn\\preprocessing\\_label.py:162\u001b[39m, in \u001b[36mLabelEncoder.inverse_transform\u001b[39m\u001b[34m(self, y)\u001b[39m\n\u001b[32m    156\u001b[39m diff = _setdiff1d(\n\u001b[32m    157\u001b[39m     ar1=y,\n\u001b[32m    158\u001b[39m     ar2=xp.arange(\u001b[38;5;28mself\u001b[39m.classes_.shape[\u001b[32m0\u001b[39m], device=device(y)),\n\u001b[32m    159\u001b[39m     xp=xp,\n\u001b[32m    160\u001b[39m )\n\u001b[32m    161\u001b[39m \u001b[38;5;28;01mif\u001b[39;00m diff.shape[\u001b[32m0\u001b[39m]:\n\u001b[32m--> \u001b[39m\u001b[32m162\u001b[39m     \u001b[38;5;28;01mraise\u001b[39;00m \u001b[38;5;167;01mValueError\u001b[39;00m(\u001b[33m\"\u001b[39m\u001b[33my contains previously unseen labels: \u001b[39m\u001b[38;5;132;01m%s\u001b[39;00m\u001b[33m\"\u001b[39m % \u001b[38;5;28mstr\u001b[39m(diff))\n\u001b[32m    163\u001b[39m y = xp.asarray(y)\n\u001b[32m    164\u001b[39m \u001b[38;5;28;01mreturn\u001b[39;00m xp.take(\u001b[38;5;28mself\u001b[39m.classes_, y, axis=\u001b[32m0\u001b[39m)\n",
      "\u001b[31mValueError\u001b[39m: y contains previously unseen labels: [3 4 5 6 7 8 9]"
     ]
    }
   ],
   "source": [
    "# show the classification report of predicted priorities\n",
    "y_pred_priority = le_priority.inverse_transform(lr_classifier.predict(X_final_test))\n",
    "print(\"\\nClassification Report for Predicted Priorities:\")  \n",
    "print(classification_report(y_final_test, y_pred_priority, target_names=le_priority.classes_, zero_division=0))\n",
    "# show the confusion matrix of predicted priorities\n",
    "cm_priority = confusion_matrix(y_final_test, y_pred_priority)\n",
    "plt.figure(figsize=(10, 8))\n",
    "sns.heatmap(cm_priority, annot=True, fmt='d', cmap='Blues', xticklabels=le_priority.classes_, yticklabels=le_priority.classes_)\n",
    "plt.title('Confusion Matrix for Predicted Priorities')  \n",
    "plt.xlabel('Predicted Priority')\n",
    "plt.ylabel('True Priority')\n",
    "plt.show()"
   ]
  },
  {
   "cell_type": "code",
   "execution_count": null,
   "id": "903409ce",
   "metadata": {},
   "outputs": [],
   "source": []
  },
  {
   "cell_type": "code",
   "execution_count": null,
   "id": "b98adac5",
   "metadata": {},
   "outputs": [],
   "source": []
  },
  {
   "cell_type": "markdown",
   "id": "a5093023",
   "metadata": {},
   "source": [
    "### logistic Regression output\n",
    "1. for Department :- 0.5121 => 51.21%\n",
    "2. for Priority :- 0.5784 => 57.84"
   ]
  },
  {
   "cell_type": "code",
   "execution_count": null,
   "id": "2b43c5d4",
   "metadata": {},
   "outputs": [],
   "source": []
  },
  {
   "cell_type": "code",
   "execution_count": null,
   "id": "6423808d",
   "metadata": {},
   "outputs": [],
   "source": []
  },
  {
   "cell_type": "code",
   "execution_count": null,
   "id": "1802eaeb",
   "metadata": {},
   "outputs": [],
   "source": []
  }
 ],
 "metadata": {
  "kernelspec": {
   "display_name": "venv",
   "language": "python",
   "name": "python3"
  },
  "language_info": {
   "codemirror_mode": {
    "name": "ipython",
    "version": 3
   },
   "file_extension": ".py",
   "mimetype": "text/x-python",
   "name": "python",
   "nbconvert_exporter": "python",
   "pygments_lexer": "ipython3",
   "version": "3.11.0"
  }
 },
 "nbformat": 4,
 "nbformat_minor": 5
}
