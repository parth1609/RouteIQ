{
 "cells": [
  {
   "cell_type": "code",
   "execution_count": 1,
   "id": "3bf0a9a1",
   "metadata": {},
   "outputs": [],
   "source": [
    "import numpy as np \n",
    "import pandas as pd\n",
    "import matplotlib.pyplot as plt \n",
    "import re\n",
    "import nltk\n",
    "from nltk.corpus import stopwords\n",
    "from nltk.stem import WordNetLemmatizer"
   ]
  },
  {
   "cell_type": "code",
   "execution_count": 19,
   "id": "e1692c9a",
   "metadata": {},
   "outputs": [],
   "source": [
    "\n",
    "# Set the option to display the full content of columns\n",
    "pd.set_option('display.max_colwidth', None)\n"
   ]
  },
  {
   "cell_type": "code",
   "execution_count": null,
   "id": "c4c5dd3e",
   "metadata": {},
   "outputs": [
    {
     "name": "stderr",
     "output_type": "stream",
     "text": [
      "[nltk_data] Downloading package stopwords to\n",
      "[nltk_data]     C:\\Users\\parth\\AppData\\Roaming\\nltk_data...\n",
      "[nltk_data]   Package stopwords is already up-to-date!\n",
      "[nltk_data] Downloading package wordnet to\n",
      "[nltk_data]     C:\\Users\\parth\\AppData\\Roaming\\nltk_data...\n",
      "[nltk_data]   Package wordnet is already up-to-date!\n",
      "[nltk_data] Downloading package omw-1.4 to\n",
      "[nltk_data]     C:\\Users\\parth\\AppData\\Roaming\\nltk_data...\n"
     ]
    },
    {
     "data": {
      "text/plain": [
       "True"
      ]
     },
     "execution_count": 8,
     "metadata": {},
     "output_type": "execute_result"
    }
   ],
   "source": [
    "# Ensure NLTK data is downloaded (run these once)\n",
    "# nltk.download('stopwords')\n",
    "# nltk.download('wordnet')\n",
    "# nltk.download('omw-1.4') # Open Multilingual Wordnet (required for WordNetLemmatizer)\n"
   ]
  },
  {
   "cell_type": "markdown",
   "id": "2f9e841c",
   "metadata": {},
   "source": [
    "### Load The dataset"
   ]
  },
  {
   "cell_type": "code",
   "execution_count": 2,
   "id": "0f328d2a",
   "metadata": {},
   "outputs": [
    {
     "data": {
      "text/html": [
       "<div>\n",
       "<style scoped>\n",
       "    .dataframe tbody tr th:only-of-type {\n",
       "        vertical-align: middle;\n",
       "    }\n",
       "\n",
       "    .dataframe tbody tr th {\n",
       "        vertical-align: top;\n",
       "    }\n",
       "\n",
       "    .dataframe thead th {\n",
       "        text-align: right;\n",
       "    }\n",
       "</style>\n",
       "<table border=\"1\" class=\"dataframe\">\n",
       "  <thead>\n",
       "    <tr style=\"text-align: right;\">\n",
       "      <th></th>\n",
       "      <th>Body</th>\n",
       "      <th>Department</th>\n",
       "      <th>Priority</th>\n",
       "      <th>Tags</th>\n",
       "    </tr>\n",
       "  </thead>\n",
       "  <tbody>\n",
       "    <tr>\n",
       "      <th>0</th>\n",
       "      <td>Dear Customer Support Team,I am writing to rep...</td>\n",
       "      <td>Technical Support</td>\n",
       "      <td>high</td>\n",
       "      <td>['Account', 'Disruption', 'Outage', 'IT', 'Tec...</td>\n",
       "    </tr>\n",
       "    <tr>\n",
       "      <th>1</th>\n",
       "      <td>Dear Customer Support Team,I hope this message...</td>\n",
       "      <td>Returns and Exchanges</td>\n",
       "      <td>medium</td>\n",
       "      <td>['Product', 'Feature', 'Tech Support']</td>\n",
       "    </tr>\n",
       "    <tr>\n",
       "      <th>2</th>\n",
       "      <td>Dear Customer Support Team,I hope this message...</td>\n",
       "      <td>Billing and Payments</td>\n",
       "      <td>low</td>\n",
       "      <td>['Billing', 'Payment', 'Account', 'Documentati...</td>\n",
       "    </tr>\n",
       "    <tr>\n",
       "      <th>3</th>\n",
       "      <td>Dear Support Team,I hope this message reaches ...</td>\n",
       "      <td>Sales and Pre-Sales</td>\n",
       "      <td>medium</td>\n",
       "      <td>['Product', 'Feature', 'Feedback', 'Tech Suppo...</td>\n",
       "    </tr>\n",
       "    <tr>\n",
       "      <th>4</th>\n",
       "      <td>Dear Customer Support,I hope this message reac...</td>\n",
       "      <td>Technical Support</td>\n",
       "      <td>high</td>\n",
       "      <td>['Feature', 'Product', 'Documentation', 'Feedb...</td>\n",
       "    </tr>\n",
       "  </tbody>\n",
       "</table>\n",
       "</div>"
      ],
      "text/plain": [
       "                                                Body             Department  \\\n",
       "0  Dear Customer Support Team,I am writing to rep...      Technical Support   \n",
       "1  Dear Customer Support Team,I hope this message...  Returns and Exchanges   \n",
       "2  Dear Customer Support Team,I hope this message...   Billing and Payments   \n",
       "3  Dear Support Team,I hope this message reaches ...    Sales and Pre-Sales   \n",
       "4  Dear Customer Support,I hope this message reac...      Technical Support   \n",
       "\n",
       "  Priority                                               Tags  \n",
       "0     high  ['Account', 'Disruption', 'Outage', 'IT', 'Tec...  \n",
       "1   medium             ['Product', 'Feature', 'Tech Support']  \n",
       "2      low  ['Billing', 'Payment', 'Account', 'Documentati...  \n",
       "3   medium  ['Product', 'Feature', 'Feedback', 'Tech Suppo...  \n",
       "4     high  ['Feature', 'Product', 'Documentation', 'Feedb...  "
      ]
     },
     "execution_count": 2,
     "metadata": {},
     "output_type": "execute_result"
    }
   ],
   "source": [
    "df = pd.read_csv('It Support Ticket Data.csv',index_col=0)\n",
    "df.head()\n"
   ]
  },
  {
   "cell_type": "code",
   "execution_count": 3,
   "id": "84501ef2",
   "metadata": {},
   "outputs": [],
   "source": [
    "df.dropna(inplace=True)"
   ]
  },
  {
   "cell_type": "code",
   "execution_count": 4,
   "id": "0554074c",
   "metadata": {},
   "outputs": [
    {
     "data": {
      "text/plain": [
       "Body          0\n",
       "Department    0\n",
       "Priority      0\n",
       "Tags          0\n",
       "dtype: int64"
      ]
     },
     "execution_count": 4,
     "metadata": {},
     "output_type": "execute_result"
    }
   ],
   "source": [
    "df.isnull().sum()"
   ]
  },
  {
   "cell_type": "code",
   "execution_count": 5,
   "id": "627e0195",
   "metadata": {},
   "outputs": [],
   "source": [
    "departments = df['Department'].unique().tolist()"
   ]
  },
  {
   "cell_type": "code",
   "execution_count": 6,
   "id": "631e682f",
   "metadata": {},
   "outputs": [
    {
     "data": {
      "text/plain": [
       "['low', 'medium', 'high']"
      ]
     },
     "execution_count": 6,
     "metadata": {},
     "output_type": "execute_result"
    }
   ],
   "source": [
    "priority = df['Priority'].unique().tolist()[::-1]\n",
    "priority  "
   ]
  },
  {
   "cell_type": "code",
   "execution_count": 7,
   "id": "cebed4ae",
   "metadata": {},
   "outputs": [
    {
     "data": {
      "text/plain": [
       "['Body', 'Department', 'Priority', 'Tags']"
      ]
     },
     "execution_count": 7,
     "metadata": {},
     "output_type": "execute_result"
    }
   ],
   "source": [
    "df.columns.tolist()"
   ]
  },
  {
   "cell_type": "code",
   "execution_count": 9,
   "id": "247e57dc",
   "metadata": {},
   "outputs": [],
   "source": [
    "X = df['Body']\n",
    "y_department = df['Department']\n",
    "y_priority = df['Priority']"
   ]
  },
  {
   "cell_type": "code",
   "execution_count": 12,
   "id": "b813d811",
   "metadata": {},
   "outputs": [],
   "source": [
    "# --- 2. Data Preprocessing ---\n",
    "\n",
    "lemmatizer = WordNetLemmatizer()\n",
    "stop_words = set(stopwords.words('english'))"
   ]
  },
  {
   "cell_type": "code",
   "execution_count": 13,
   "id": "56b66a68",
   "metadata": {},
   "outputs": [],
   "source": [
    "def preprocess_text(text):\n",
    "    text = str(text).lower() # Convert to string and lowercase\n",
    "    text = re.sub(r'[^a-z\\s]', '', text) # Remove non-alphabetic characters\n",
    "    tokens = text.split() # Simple tokenization\n",
    "    tokens = [lemmatizer.lemmatize(word) for word in tokens if word not in stop_words] # Lemmatize and remove stop words\n",
    "    return ' '.join(tokens)"
   ]
  },
  {
   "cell_type": "code",
   "execution_count": 14,
   "id": "30d2c88f",
   "metadata": {},
   "outputs": [
    {
     "name": "stdout",
     "output_type": "stream",
     "text": [
      "\n",
      "Starting text preprocessing...\n",
      "Text preprocessing complete.\n",
      "Sample preprocessed text:\n",
      "0    dear customer support teami writing report sig...\n",
      "1    dear customer support teami hope message reach...\n",
      "2    dear customer support teami hope message find ...\n",
      "3    dear support teami hope message reach well rea...\n",
      "4    dear customer supporti hope message reach good...\n",
      "Name: Body, dtype: object\n"
     ]
    }
   ],
   "source": [
    "print(\"\\nStarting text preprocessing...\")\n",
    "X_preprocessed = X.apply(preprocess_text)\n",
    "print(\"Text preprocessing complete.\")\n",
    "print(\"Sample preprocessed text:\")\n",
    "print(X_preprocessed.head())\n"
   ]
  },
  {
   "cell_type": "code",
   "execution_count": 23,
   "id": "9087353e",
   "metadata": {},
   "outputs": [
    {
     "data": {
      "text/plain": [
       "0    dear customer support teami writing report significant problem centralized account management portal currently appears offline outage blocking access account setting leading substantial inconvenience attempted log multiple time using different browser device issue persistscould please provide update outage status estimated time resolution also alternative way access manage account downtime\n",
       "Name: Body, dtype: object"
      ]
     },
     "execution_count": 23,
     "metadata": {},
     "output_type": "execute_result"
    }
   ],
   "source": [
    "X_preprocessed.head(1)\n"
   ]
  },
  {
   "cell_type": "code",
   "execution_count": null,
   "id": "b2893387",
   "metadata": {},
   "outputs": [
    {
     "data": {
      "text/plain": [
       "'Dear Customer Support Team,I hope this message reaches you well. I am reaching out to request detailed information about the capabilities of your smart home integration products listed on your website. As a potential customer aiming to develop a seamlessly interconnected home environment, it is essential to understand how your products interact with various smart home platforms.Could you kindly provide detailed compatibility information with popular smart home ecosystems such as Amazon Alexa, Google Assistant, and Apple?'"
      ]
     },
     "execution_count": 21,
     "metadata": {},
     "output_type": "execute_result"
    }
   ],
   "source": [
    "# df['Body'][1]"
   ]
  },
  {
   "cell_type": "code",
   "execution_count": null,
   "id": "d8b461e7",
   "metadata": {},
   "outputs": [],
   "source": []
  }
 ],
 "metadata": {
  "kernelspec": {
   "display_name": "venv",
   "language": "python",
   "name": "python3"
  },
  "language_info": {
   "codemirror_mode": {
    "name": "ipython",
    "version": 3
   },
   "file_extension": ".py",
   "mimetype": "text/x-python",
   "name": "python",
   "nbconvert_exporter": "python",
   "pygments_lexer": "ipython3",
   "version": "3.11.0"
  }
 },
 "nbformat": 4,
 "nbformat_minor": 5
}
