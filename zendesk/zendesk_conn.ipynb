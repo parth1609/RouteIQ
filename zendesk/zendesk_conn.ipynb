{
 "cells": [
  {
   "cell_type": "code",
   "execution_count": 3,
   "id": "9d0a5f37",
   "metadata": {},
   "outputs": [],
   "source": [
    "# app_id = \"686a33c3102ade681afb873f\"\n",
    "# key_id = \"app_686a3581cf18a346c80dde1e\"\n",
    "\n",
    "\n",
    "from zenpy import Zenpy\n",
    "from zenpy.lib.api_objects import Ticket, User, Organization, Group, Comment, Attachment\n",
    "import os\n",
    "import json\n",
    "import requests\n",
    "from dotenv import load_dotenv, find_dotenv\n",
    "load_dotenv()\n",
    "\n",
    "\n",
    "creds = { \n",
    "  'email' : os.getenv('ZENDESK_EMAIL'),\n",
    "  'token' : os.getenv('ZENDESK_TOKEN'),\n",
    "  'subdomain': os.getenv('ZENDESK_SUBDOMAIN')\n",
    "}\n",
    "\n",
    "zenpy_client = Zenpy(**creds)\n"
   ]
  },
  {
   "cell_type": "code",
   "execution_count": 4,
   "id": "1d478058",
   "metadata": {},
   "outputs": [
    {
     "name": "stdout",
     "output_type": "stream",
     "text": [
      "Agent ID: 36877073033233, Name: tarunpingle@gmail.com\n",
      "Agent ID: 36884915082129, Name: chinmay thorat\n",
      "Agent ID: 36885006420881, Name: aditya pandulkar\n",
      "Agent ID: 36900490423441, Name: prasad kandalkar\n"
     ]
    }
   ],
   "source": [
    "# Retrieve all users and filter for agents\n",
    "agents = zenpy_client.users(role='agent') \n",
    "\n",
    "for agent in agents:\n",
    "    print(f\"Agent ID: {agent.id}, Name: {agent.name}\")\n"
   ]
  },
  {
   "cell_type": "code",
   "execution_count": 7,
   "id": "e1c37b82",
   "metadata": {},
   "outputs": [
    {
     "name": "stdout",
     "output_type": "stream",
     "text": [
      "Assignee with identifier 'adityapandukar2@gmail.com' exists in Zendesk.\n"
     ]
    }
   ],
   "source": [
    "\n",
    "\n",
    "# Define the assignee's identifier (email or ID)\n",
    "assignee_identifier = 'adityapandukar2@gmail.com'  \n",
    "\n",
    "# Search for users based on the email\n",
    "users = zenpy_client.users.search(f'email:{assignee_identifier}')\n",
    "\n",
    "# Check if the search returned any users\n",
    "if users:\n",
    "    print(f\"Assignee with identifier '{assignee_identifier}' exists in Zendesk.\")\n",
    "else:\n",
    "    # Create a new user with the \"agent\" role\n",
    "    new_agent = zenpy_client.users.create(User(name='aditya pandulkar', email='adityapandukar2@gmail.com', role='agent'))\n",
    "    print(f\"Assignee with email '{assignee_identifier}' not found. Creating a new agent with this email.\")\n",
    "    print(f\"Newly created agent ID: {new_agent.id}\")\n",
    "\n",
    "\n"
   ]
  },
  {
   "cell_type": "code",
   "execution_count": 8,
   "id": "fbc61d0b",
   "metadata": {},
   "outputs": [
    {
     "name": "stdout",
     "output_type": "stream",
     "text": [
      "Assignee with email 'adityapandukar2@gmail.com' found. User ID: 36885006420881\n",
      "Ticket created and assigned to user ID 36885006420881.\n"
     ]
    }
   ],
   "source": [
    "# If users are found, get the ID of the first user (assuming only one user with this email)\n",
    "assignee_id = 36885006420881\n",
    "print(f\"Assignee with email '{assignee_identifier}' found. User ID: {assignee_id}\")\n",
    "\n",
    "# Create a new ticket and assign it using the assignee_id\n",
    "zenpy_client.tickets.create(Ticket(subject=\"wifi is not working\", description=\"wifi not working at all\", assignee_id=assignee_id))\n",
    "print(f\"Ticket created and assigned to user ID {assignee_id}.\")"
   ]
  },
  {
   "cell_type": "code",
   "execution_count": 9,
   "id": "8a0701a9",
   "metadata": {},
   "outputs": [
    {
     "name": "stdout",
     "output_type": "stream",
     "text": [
      "Customer Name: lavnya patel, Email: lavnyagpattil@gmail.com\n",
      "Customer Name: Customer, Email: example@zendesk.com\n",
      "Customer Name: bob, Email: ckhairnar@gmail.com\n",
      "Customer Name: anil kumar, Email: anilkumar@gmail.com\n"
     ]
    }
   ],
   "source": [
    "\n",
    "# Retrieve all users\n",
    "all_users = zenpy_client.users()\n",
    "\n",
    "# Filter for users with the 'end-user' role\n",
    "customers = [user for user in all_users if user.role == 'end-user']\n",
    "\n",
    "# Now you have a list of all your customers (end-users)\n",
    "for customer in customers:\n",
    "    print(f\"Customer Name: {customer.name}, Email: {customer.email}\")"
   ]
  },
  {
   "cell_type": "code",
   "execution_count": 12,
   "id": "4bcde188",
   "metadata": {},
   "outputs": [
    {
     "ename": "APIException",
     "evalue": "{\"error\": \"RecordInvalid\", \"description\": \"Record validation errors\", \"details\": {\"email\": [{\"description\": \"Email: anilkumar@gmail.com is already being used by another user\", \"error\": \"DuplicateValue\"}]}}",
     "output_type": "error",
     "traceback": [
      "\u001b[31m---------------------------------------------------------------------------\u001b[39m",
      "\u001b[31mAPIException\u001b[39m                              Traceback (most recent call last)",
      "\u001b[36mCell\u001b[39m\u001b[36m \u001b[39m\u001b[32mIn[12]\u001b[39m\u001b[32m, line 9\u001b[39m\n\u001b[32m      6\u001b[39m new_customer = User(name=new_customer_name, email=new_customer_email, role=\u001b[33m'\u001b[39m\u001b[33mend-user\u001b[39m\u001b[33m'\u001b[39m)\n\u001b[32m      8\u001b[39m \u001b[38;5;66;03m# Create the new user in Zendesk\u001b[39;00m\n\u001b[32m----> \u001b[39m\u001b[32m9\u001b[39m created_customer = \u001b[43mzenpy_client\u001b[49m\u001b[43m.\u001b[49m\u001b[43musers\u001b[49m\u001b[43m.\u001b[49m\u001b[43mcreate\u001b[49m\u001b[43m(\u001b[49m\u001b[43mnew_customer\u001b[49m\u001b[43m)\u001b[49m\n\u001b[32m     11\u001b[39m \u001b[38;5;66;03m# Print details of the newly created customer\u001b[39;00m\n\u001b[32m     12\u001b[39m \u001b[38;5;28mprint\u001b[39m(\u001b[33mf\u001b[39m\u001b[33m\"\u001b[39m\u001b[33mCustomer \u001b[39m\u001b[33m'\u001b[39m\u001b[38;5;132;01m{\u001b[39;00mcreated_customer.name\u001b[38;5;132;01m}\u001b[39;00m\u001b[33m'\u001b[39m\u001b[33m created with ID: \u001b[39m\u001b[38;5;132;01m{\u001b[39;00mcreated_customer.id\u001b[38;5;132;01m}\u001b[39;00m\u001b[33m\"\u001b[39m)\n",
      "\u001b[36mFile \u001b[39m\u001b[32mc:\\Users\\parth\\OneDrive\\Desktop\\one\\ticketingmodel\\venv\\Lib\\site-packages\\zenpy\\lib\\api.py:615\u001b[39m, in \u001b[36mCRUDApi.create\u001b[39m\u001b[34m(self, api_objects, **kwargs)\u001b[39m\n\u001b[32m    607\u001b[39m \u001b[38;5;28;01mdef\u001b[39;00m\u001b[38;5;250m \u001b[39m\u001b[34mcreate\u001b[39m(\u001b[38;5;28mself\u001b[39m, api_objects, **kwargs):\n\u001b[32m    608\u001b[39m \u001b[38;5;250m    \u001b[39m\u001b[33;03m\"\"\"\u001b[39;00m\n\u001b[32m    609\u001b[39m \u001b[33;03m    Create (POST) one or more API objects.\u001b[39;00m\n\u001b[32m    610\u001b[39m \u001b[33;03m    Before being submitted to Zendesk the object or objects\u001b[39;00m\n\u001b[32m   (...)\u001b[39m\u001b[32m    613\u001b[39m \u001b[33;03m    :param api_objects: object or objects to create\u001b[39;00m\n\u001b[32m    614\u001b[39m \u001b[33;03m    \"\"\"\u001b[39;00m\n\u001b[32m--> \u001b[39m\u001b[32m615\u001b[39m     \u001b[38;5;28;01mreturn\u001b[39;00m \u001b[43mCRUDRequest\u001b[49m\u001b[43m(\u001b[49m\u001b[38;5;28;43mself\u001b[39;49m\u001b[43m)\u001b[49m\u001b[43m.\u001b[49m\u001b[43mpost\u001b[49m\u001b[43m(\u001b[49m\u001b[43mapi_objects\u001b[49m\u001b[43m,\u001b[49m\u001b[43m \u001b[49m\u001b[43m*\u001b[49m\u001b[43m*\u001b[49m\u001b[43mkwargs\u001b[49m\u001b[43m)\u001b[49m\n",
      "\u001b[36mFile \u001b[39m\u001b[32mc:\\Users\\parth\\OneDrive\\Desktop\\one\\ticketingmodel\\venv\\Lib\\site-packages\\zenpy\\lib\\request.py:90\u001b[39m, in \u001b[36mCRUDRequest.post\u001b[39m\u001b[34m(self, api_objects, *args, **kwargs)\u001b[39m\n\u001b[32m     88\u001b[39m kwargs = \u001b[38;5;28mself\u001b[39m.preflight_payload(payload, **kwargs)\n\u001b[32m     89\u001b[39m url = \u001b[38;5;28mself\u001b[39m.api._build_url(endpoint(*args, **kwargs))\n\u001b[32m---> \u001b[39m\u001b[32m90\u001b[39m \u001b[38;5;28;01mreturn\u001b[39;00m \u001b[38;5;28;43mself\u001b[39;49m\u001b[43m.\u001b[49m\u001b[43mapi\u001b[49m\u001b[43m.\u001b[49m\u001b[43m_post\u001b[49m\u001b[43m(\u001b[49m\u001b[43murl\u001b[49m\u001b[43m,\u001b[49m\u001b[43m \u001b[49m\u001b[43mpayload\u001b[49m\u001b[43m)\u001b[49m\n",
      "\u001b[36mFile \u001b[39m\u001b[32mc:\\Users\\parth\\OneDrive\\Desktop\\one\\ticketingmodel\\venv\\Lib\\site-packages\\zenpy\\lib\\api.py:151\u001b[39m, in \u001b[36mBaseApi._post\u001b[39m\u001b[34m(self, url, payload, content_type, **kwargs)\u001b[39m\n\u001b[32m    148\u001b[39m \u001b[38;5;28;01melse\u001b[39;00m:\n\u001b[32m    149\u001b[39m     headers = \u001b[38;5;28;01mNone\u001b[39;00m\n\u001b[32m--> \u001b[39m\u001b[32m151\u001b[39m response = \u001b[38;5;28;43mself\u001b[39;49m\u001b[43m.\u001b[49m\u001b[43m_call_api\u001b[49m\u001b[43m(\u001b[49m\u001b[38;5;28;43mself\u001b[39;49m\u001b[43m.\u001b[49m\u001b[43msession\u001b[49m\u001b[43m.\u001b[49m\u001b[43mpost\u001b[49m\u001b[43m,\u001b[49m\n\u001b[32m    152\u001b[39m \u001b[43m                          \u001b[49m\u001b[43murl\u001b[49m\u001b[43m,\u001b[49m\n\u001b[32m    153\u001b[39m \u001b[43m                          \u001b[49m\u001b[43mjson\u001b[49m\u001b[43m=\u001b[49m\u001b[38;5;28;43mself\u001b[39;49m\u001b[43m.\u001b[49m\u001b[43m_serialize\u001b[49m\u001b[43m(\u001b[49m\u001b[43mpayload\u001b[49m\u001b[43m)\u001b[49m\u001b[43m,\u001b[49m\n\u001b[32m    154\u001b[39m \u001b[43m                          \u001b[49m\u001b[43mtimeout\u001b[49m\u001b[43m=\u001b[49m\u001b[38;5;28;43mself\u001b[39;49m\u001b[43m.\u001b[49m\u001b[43mtimeout\u001b[49m\u001b[43m,\u001b[49m\n\u001b[32m    155\u001b[39m \u001b[43m                          \u001b[49m\u001b[43mheaders\u001b[49m\u001b[43m=\u001b[49m\u001b[43mheaders\u001b[49m\u001b[43m,\u001b[49m\n\u001b[32m    156\u001b[39m \u001b[43m                          \u001b[49m\u001b[43m*\u001b[49m\u001b[43m*\u001b[49m\u001b[43mkwargs\u001b[49m\u001b[43m)\u001b[49m\n\u001b[32m    157\u001b[39m \u001b[38;5;28;01mreturn\u001b[39;00m \u001b[38;5;28mself\u001b[39m._process_response(response)\n",
      "\u001b[36mFile \u001b[39m\u001b[32mc:\\Users\\parth\\OneDrive\\Desktop\\one\\ticketingmodel\\venv\\Lib\\site-packages\\zenpy\\lib\\api.py:227\u001b[39m, in \u001b[36mBaseApi._call_api\u001b[39m\u001b[34m(self, http_method, url, **kwargs)\u001b[39m\n\u001b[32m    224\u001b[39m             sleep(\u001b[32m1\u001b[39m)\n\u001b[32m    225\u001b[39m         response = http_method(url, **kwargs)\n\u001b[32m--> \u001b[39m\u001b[32m227\u001b[39m \u001b[38;5;28;43mself\u001b[39;49m\u001b[43m.\u001b[49m\u001b[43m_check_response\u001b[49m\u001b[43m(\u001b[49m\u001b[43mresponse\u001b[49m\u001b[43m)\u001b[49m\n\u001b[32m    228\u001b[39m \u001b[38;5;28mself\u001b[39m._update_callsafety(response)\n\u001b[32m    229\u001b[39m \u001b[38;5;28;01mreturn\u001b[39;00m response\n",
      "\u001b[36mFile \u001b[39m\u001b[32mc:\\Users\\parth\\OneDrive\\Desktop\\one\\ticketingmodel\\venv\\Lib\\site-packages\\zenpy\\lib\\api.py:400\u001b[39m, in \u001b[36mBaseApi._check_response\u001b[39m\u001b[34m(self, response)\u001b[39m\n\u001b[32m    397\u001b[39m         \u001b[38;5;28;01mraise\u001b[39;00m SearchResponseLimitExceeded(json.dumps(_json),\n\u001b[32m    398\u001b[39m                                           response=response)\n\u001b[32m    399\u001b[39m     \u001b[38;5;28;01melse\u001b[39;00m:\n\u001b[32m--> \u001b[39m\u001b[32m400\u001b[39m         \u001b[38;5;28;01mraise\u001b[39;00m APIException(json.dumps(_json), response=response)\n\u001b[32m    401\u001b[39m \u001b[38;5;28;01mexcept\u001b[39;00m \u001b[38;5;167;01mValueError\u001b[39;00m:\n\u001b[32m    402\u001b[39m     response.raise_for_status()\n",
      "\u001b[31mAPIException\u001b[39m: {\"error\": \"RecordInvalid\", \"description\": \"Record validation errors\", \"details\": {\"email\": [{\"description\": \"Email: anilkumar@gmail.com is already being used by another user\", \"error\": \"DuplicateValue\"}]}}"
     ]
    }
   ],
   "source": [
    "\n",
    "# Define the new customer's details\n",
    "new_customer_name = 'anil kumar'\n",
    "new_customer_email = 'anilkumar@gmail.com'\n",
    "\n",
    "# Create a new User object with the 'end-user' role\n",
    "new_customer = User(name=new_customer_name, email=new_customer_email, role='end-user')\n",
    "\n",
    "# Create the new user in Zendesk\n",
    "created_customer = zenpy_client.users.create(new_customer)\n",
    "\n",
    "# Print details of the newly created customer\n",
    "print(f\"Customer '{created_customer.name}' created with ID: {created_customer.id}\")"
   ]
  },
  {
   "cell_type": "code",
   "execution_count": 13,
   "id": "7a9f5c5d",
   "metadata": {},
   "outputs": [
    {
     "name": "stdout",
     "output_type": "stream",
     "text": [
      "User with email 'anilkumar@gmail.com' already exists.\n"
     ]
    },
    {
     "ename": "AttributeError",
     "evalue": "'ZendeskResultGenerator' object has no attribute 'id'",
     "output_type": "error",
     "traceback": [
      "\u001b[31m---------------------------------------------------------------------------\u001b[39m",
      "\u001b[31mAttributeError\u001b[39m                            Traceback (most recent call last)",
      "\u001b[36mCell\u001b[39m\u001b[36m \u001b[39m\u001b[32mIn[13]\u001b[39m\u001b[32m, line 8\u001b[39m\n\u001b[32m      6\u001b[39m     \u001b[38;5;28mprint\u001b[39m(\u001b[33mf\u001b[39m\u001b[33m\"\u001b[39m\u001b[33mUser with email \u001b[39m\u001b[33m'\u001b[39m\u001b[38;5;132;01m{\u001b[39;00mnew_customer_email\u001b[38;5;132;01m}\u001b[39;00m\u001b[33m'\u001b[39m\u001b[33m already exists.\u001b[39m\u001b[33m\"\u001b[39m)\n\u001b[32m      7\u001b[39m     \u001b[38;5;66;03m# You can access the existing user object here if needed\u001b[39;00m\n\u001b[32m----> \u001b[39m\u001b[32m8\u001b[39m     existing_user = \u001b[43mexisting_users\u001b[49m\u001b[43m.\u001b[49m\u001b[43mid\u001b[49m  \u001b[38;5;66;03m# Or users[0].id if you expect multiple matches\u001b[39;00m\n\u001b[32m      9\u001b[39m     \u001b[38;5;28mprint\u001b[39m(\u001b[33mf\u001b[39m\u001b[33m\"\u001b[39m\u001b[33mExisting user ID: \u001b[39m\u001b[38;5;132;01m{\u001b[39;00mexisting_user\u001b[38;5;132;01m}\u001b[39;00m\u001b[33m\"\u001b[39m)\n\u001b[32m     10\u001b[39m \u001b[38;5;28;01melse\u001b[39;00m:\n\u001b[32m     11\u001b[39m     \u001b[38;5;66;03m# Create a new User object with the 'end-user' role\u001b[39;00m\n",
      "\u001b[31mAttributeError\u001b[39m: 'ZendeskResultGenerator' object has no attribute 'id'"
     ]
    }
   ],
   "source": [
    "\n",
    "# Search for the user by email\n",
    "existing_users = zenpy_client.users.search(f'email:{new_customer_email}')\n",
    "\n",
    "# Check if any users were found with that email\n",
    "if existing_users:\n",
    "    print(f\"User with email '{new_customer_email}' already exists.\")\n",
    "    # You can access the existing user object here if needed\n",
    "    existing_user = existing_users.id  # Or users[0].id if you expect multiple matches\n",
    "    print(f\"Existing user ID: {existing_user}\")\n",
    "else:\n",
    "    # Create a new User object with the 'end-user' role\n",
    "    new_customer = User(name=new_customer_name, email=new_customer_name, role='end-user')\n",
    "\n",
    "    # Create the new user in Zendesk\n",
    "    created_customer = zenpy_client.users.create(new_customer)\n",
    "    print(f\"User '{created_customer.name}' created with ID: {created_customer.id}\")"
   ]
  },
  {
   "cell_type": "code",
   "execution_count": 14,
   "id": "2821547f",
   "metadata": {},
   "outputs": [
    {
     "name": "stdout",
     "output_type": "stream",
     "text": [
      "Customer with email 'anilkumar@gmail.com' found. User ID: 36885110559889\n",
      "Assignee with email 'adityapandukar2@gmail.com' found. User ID: 36885006420881\n",
      "Ticket created successfully with ID: 12\n"
     ]
    }
   ],
   "source": [
    "\n",
    "# Define the customer (requester) and assignee (agent) emails\n",
    "customer_email = 'anilkumar@gmail.com'\n",
    "assignee_email = 'adityapandukar2@gmail.com'  \n",
    "\n",
    "# --- Get the customer's ID ---\n",
    "# Search for the customer by email\n",
    "customer_users = zenpy_client.users.search(f'email:{customer_email}')\n",
    "\n",
    "# Check if the customer exists and get their ID\n",
    "if customer_users:\n",
    "    # Iterate through the generator and get the ID of the first user found\n",
    "    customer_id = next(customer_users).id  # Use next() to get the first item from the generator\n",
    "    print(f\"Customer with email '{customer_email}' found. User ID: {customer_id}\")\n",
    "else:\n",
    "    print(f\"Customer with email '{customer_email}' not found. Please ensure they exist in Zendesk.\")\n",
    "    # You might want to handle this case, e.g., create the customer or raise an error\n",
    "    customer_id = None # Set to None if the customer doesn't exist\n",
    "\n",
    "\n",
    "# --- Get the assignee's ID ---\n",
    "# Search for the assignee by email\n",
    "assignee_users = zenpy_client.users.search(f'email:{assignee_email}')\n",
    "\n",
    "# Check if the assignee exists and get their ID\n",
    "if assignee_users:\n",
    "    # Iterate through the generator and get the ID of the first user found\n",
    "    assignee_id = next(assignee_users).id  # Use next() to get the first item from the generator\n",
    "    print(f\"Assignee with email '{assignee_email}' found. User ID: {assignee_id}\")\n",
    "else:\n",
    "    print(f\"Assignee with email '{assignee_email}' not found. Please ensure they exist in Zendesk and are an agent.\")\n",
    "    # You might want to handle this case, e.g., raise an error or assign to a default agent/group\n",
    "    assignee_id = None # Set to None if the assignee doesn't exist\n",
    "\n",
    "# --- Create the ticket if both customer and assignee are found ---\n",
    "if customer_id and assignee_id:\n",
    "    # Create the Ticket object, setting requester_id and assignee_id\n",
    "    new_ticket = Ticket(\n",
    "        subject=\"Issue with existing customer and assignee\",\n",
    "        description=\"Ticket created for an existing customer and assigned to an existing agent.\",\n",
    "        requester_id=customer_id,  # Set the requester using the customer's ID\n",
    "        assignee_id=assignee_id  # Set the assignee using the agent's ID\n",
    "    )\n",
    "\n",
    "    # Create the new ticket in Zendesk\n",
    "    created_ticket = zenpy_client.tickets.create(new_ticket)\n",
    "\n",
    "    print(f\"Ticket created successfully with ID: {created_ticket.ticket.id}\")\n",
    "else:\n",
    "    print(\"Could not create ticket. Either the customer or the assignee was not found.\")\n"
   ]
  },
  {
   "cell_type": "code",
   "execution_count": 15,
   "id": "d7fd2256",
   "metadata": {},
   "outputs": [
    {
     "name": "stdout",
     "output_type": "stream",
     "text": [
      "Ticket ID: 1, Subject: SAMPLE: How does Zendesk work, description: Hello, let's see how you or your agents can easily respond to and solve tickets.\n",
      "\n",
      "Feel free to email additional customer test inquiries to **support@creation-58059.zendesk.com**.\n",
      "\n",
      "But first, let's start by solving one ticket.\n",
      "\n",
      "Your Zendesk Team\n",
      "  Assignee: shankar mahadeavan, Email: mar.i.n.esantos.00.5@googlemail.com\n",
      "  Requester: Customer, Email: example@zendesk.com\n",
      "--------------------\n",
      "Ticket ID: 2, Subject: creating my first ticket, description: No description for the first ticket\n",
      "  Requester: shankar mahadeavan, Email: mar.i.n.esantos.00.5@googlemail.com\n",
      "--------------------\n",
      "Ticket ID: 3, Subject: creating my first ticket, description: No description for the first ticket\n",
      "  Requester: shankar mahadeavan, Email: mar.i.n.esantos.00.5@googlemail.com\n",
      "--------------------\n",
      "Ticket ID: 4, Subject: Python API Test Ticket One, description: Demonstrating creating a ticket with the Zendesk API using Python\n",
      "  Assignee: tarunpingle@gmail.com, Email: tarunpingle@gmail.com\n",
      "  Requester: shankar mahadeavan, Email: mar.i.n.esantos.00.5@googlemail.com\n",
      "--------------------\n",
      "Ticket ID: 5, Subject: Important, description: Thing\n",
      "  Requester: shankar mahadeavan, Email: mar.i.n.esantos.00.5@googlemail.com\n",
      "--------------------\n",
      "Ticket ID: 7, Subject: Some description about chetu, description: Some description about chetu\n",
      "  Assignee: chinmay thorat, Email: chinmaythorat42@gmail.com\n",
      "  Requester: bob, Email: ckhairnar@gmail.com\n",
      "--------------------\n",
      "Ticket ID: 8, Subject: Important, description: Thing\n",
      "  Requester: shankar mahadeavan, Email: mar.i.n.esantos.00.5@googlemail.com\n",
      "--------------------\n",
      "Ticket ID: 9, Subject: wifi is not working, description: wifi not working at all\n",
      "  Assignee: aditya pandulkar, Email: adityapandukar2@gmail.com\n",
      "  Requester: shankar mahadeavan, Email: mar.i.n.esantos.00.5@googlemail.com\n",
      "--------------------\n",
      "Ticket ID: 10, Subject: Issue with existing customer and assignee, description: Ticket created for an existing customer and assigned to an existing agent.\n",
      "  Assignee: aditya pandulkar, Email: adityapandukar2@gmail.com\n",
      "  Requester: anil kumar, Email: anilkumar@gmail.com\n",
      "--------------------\n",
      "Ticket ID: 11, Subject: wifi is not working, description: wifi not working at all\n",
      "  Assignee: aditya pandulkar, Email: adityapandukar2@gmail.com\n",
      "  Requester: shankar mahadeavan, Email: mar.i.n.esantos.00.5@googlemail.com\n",
      "--------------------\n",
      "Ticket ID: 12, Subject: Issue with existing customer and assignee, description: Ticket created for an existing customer and assigned to an existing agent.\n",
      "  Assignee: aditya pandulkar, Email: adityapandukar2@gmail.com\n",
      "  Requester: anil kumar, Email: anilkumar@gmail.com\n",
      "--------------------\n"
     ]
    }
   ],
   "source": [
    "\n",
    "# Retrieve all tickets\n",
    "tickets = zenpy_client.tickets()\n",
    "\n",
    "# Iterate through each ticket\n",
    "for ticket in tickets:\n",
    "    print(f\"Ticket ID: {ticket.id}, Subject: {ticket.subject}, description: {ticket.description}\")\n",
    "\n",
    "    # Get assignee details if assigned\n",
    "    if ticket.assignee_id:\n",
    "        try:\n",
    "            assignee = zenpy_client.users(id=ticket.assignee_id)\n",
    "            print(f\"  Assignee: {assignee.name}, Email: {assignee.email}\")\n",
    "        except Exception as e:\n",
    "            print(f\"  Could not retrieve assignee details for ID {ticket.assignee_id}: {e}\")\n",
    "\n",
    "    # Get requester details\n",
    "    try:\n",
    "        requester = zenpy_client.users(id=ticket.requester_id)\n",
    "        print(f\"  Requester: {requester.name}, Email: {requester.email}\")\n",
    "    except Exception as e:\n",
    "        print(f\"  Could not retrieve requester details for ID {ticket.requester_id}: {e}\")\n",
    "\n",
    "    print(\"-\" * 20)  # Separator for readability"
   ]
  },
  {
   "cell_type": "code",
   "execution_count": null,
   "id": "3fc41bcd",
   "metadata": {},
   "outputs": [],
   "source": []
  },
  {
   "cell_type": "code",
   "execution_count": 1,
   "id": "9ce33249",
   "metadata": {},
   "outputs": [
    {
     "name": "stdout",
     "output_type": "stream",
     "text": [
      "WARNING:tensorflow:From c:\\Users\\parth\\OneDrive\\Desktop\\one\\ticketingmodel\\venv\\Lib\\site-packages\\tf_keras\\src\\losses.py:2976: The name tf.losses.sparse_softmax_cross_entropy is deprecated. Please use tf.compat.v1.losses.sparse_softmax_cross_entropy instead.\n",
      "\n",
      "Using device: cuda\n",
      "Using device: cuda\n",
      "✅ Custom classifier initialized successfully\n",
      "\n",
      "=== Custom Classifier Evaluation ===\n",
      "Classifying 1 queries...\n",
      "Processing 1/1: The wifi is not working at all. I have tried resta...\n"
     ]
    },
    {
     "data": {
      "text/plain": [
       "[{'query': \"The wifi is not working at all. I have tried restarting my computer and router, but it still doesn't connect. Please help me resolve this issue as soon as possible.\",\n",
       "  'department': 'IT Support',\n",
       "  'priority': 'high',\n",
       "  'method': 'custom_classifier'}]"
      ]
     },
     "execution_count": 1,
     "metadata": {},
     "output_type": "execute_result"
    }
   ],
   "source": [
    "from evaluation import ITTicketEvaluator\n",
    "import os\n",
    "model_id = os.getenv('HF_MODEL_ID')\n",
    "api_token = os.getenv('HF_TOKEN')\n",
    "\n",
    "ticket_evaluator = ITTicketEvaluator(model_id=model_id,api_token=api_token)\n",
    "\n",
    "ticket_desc = [\"The wifi is not working at all. I have tried restarting my computer and router, but it still doesn't connect. Please help me resolve this issue as soon as possible.\"]\n",
    "result = ticket_evaluator.classify_with_custom_classifier(ticket_desc)\n",
    "result"
   ]
  },
  {
   "cell_type": "code",
   "execution_count": 33,
   "id": "e2466584",
   "metadata": {},
   "outputs": [],
   "source": [
    "for item in result:\n",
    "    query = item.get('query')\n",
    "    department = item.get('department')\n",
    "    priority = item.get('priority')\n",
    "    method = item.get('method')"
   ]
  },
  {
   "cell_type": "code",
   "execution_count": 34,
   "id": "fcc4dcbd",
   "metadata": {},
   "outputs": [
    {
     "name": "stdout",
     "output_type": "stream",
     "text": [
      "Customer with email 'anilkumar@gmail.com' found. User ID: 36885110559889\n",
      "Assignee with email 'adityapandukar2@gmail.com' found. User ID: 36885006420881\n",
      "Ticket created successfully with ID: 13\n"
     ]
    }
   ],
   "source": [
    "\n",
    "# Define the customer (requester) and assignee (agent) emails\n",
    "customer_email = 'anilkumar@gmail.com'\n",
    "assignee_email = 'adityapandukar2@gmail.com'  \n",
    "\n",
    "# --- Get the customer's ID ---\n",
    "# Search for the customer by email\n",
    "customer_users = zenpy_client.users.search(f'email:{customer_email}')\n",
    "\n",
    "# Check if the customer exists and get their ID\n",
    "if customer_users:\n",
    "    # Iterate through the generator and get the ID of the first user found\n",
    "    customer_id = next(customer_users).id  # Use next() to get the first item from the generator\n",
    "    print(f\"Customer with email '{customer_email}' found. User ID: {customer_id}\")\n",
    "else:\n",
    "    print(f\"Customer with email '{customer_email}' not found. Please ensure they exist in Zendesk.\")\n",
    "    # You might want to handle this case, e.g., create the customer or raise an error\n",
    "    customer_id = None # Set to None if the customer doesn't exist\n",
    "\n",
    "\n",
    "# --- Get the assignee's ID ---\n",
    "# Search for the assignee by email\n",
    "assignee_users = zenpy_client.users.search(f'email:{assignee_email}')\n",
    "\n",
    "# Check if the assignee exists and get their ID\n",
    "if assignee_users:\n",
    "    # Iterate through the generator and get the ID of the first user found\n",
    "    assignee_id = next(assignee_users).id  # Use next() to get the first item from the generator\n",
    "    print(f\"Assignee with email '{assignee_email}' found. User ID: {assignee_id}\")\n",
    "else:\n",
    "    print(f\"Assignee with email '{assignee_email}' not found. Please ensure they exist in Zendesk and are an agent.\")\n",
    "    # You might want to handle this case, e.g., raise an error or assign to a default agent/group\n",
    "    assignee_id = None # Set to None if the assignee doesn't exist\n",
    "\n",
    "# --- Create the ticket if both customer and assignee are found ---\n",
    "if customer_id and assignee_id:\n",
    "    # Create the Ticket object, setting requester_id and assignee_id\n",
    "    new_ticket = Ticket(\n",
    "        subject=\"wifi is not working\",\n",
    "        description=query,\n",
    "        requester_id=customer_id,  # Set the requester using the customer's ID\n",
    "        assignee_id=assignee_id,  # Set the assignee using the agent's ID\n",
    "        priority=priority,  # Set the priority based on the classification\n",
    "        department=department,  # Set the department based on the classification\n",
    "    )\n",
    "\n",
    "    \n",
    "    # Create the new ticket in Zendesk\n",
    "    created_ticket = zenpy_client.tickets.create(new_ticket)\n",
    "\n",
    "    print(f\"Ticket created successfully with ID: {created_ticket.ticket.id}\")\n",
    "else:\n",
    "    print(\"Could not create ticket. Either the customer or the assignee was not found.\")\n"
   ]
  },
  {
   "cell_type": "code",
   "execution_count": null,
   "id": "b36dfb0a",
   "metadata": {},
   "outputs": [],
   "source": []
  }
 ],
 "metadata": {
  "kernelspec": {
   "display_name": "venv",
   "language": "python",
   "name": "python3"
  },
  "language_info": {
   "codemirror_mode": {
    "name": "ipython",
    "version": 3
   },
   "file_extension": ".py",
   "mimetype": "text/x-python",
   "name": "python",
   "nbconvert_exporter": "python",
   "pygments_lexer": "ipython3",
   "version": "3.11.0"
  }
 },
 "nbformat": 4,
 "nbformat_minor": 5
}
